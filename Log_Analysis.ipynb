{
  "nbformat": 4,
  "nbformat_minor": 0,
  "metadata": {
    "colab": {
      "name": "Log Analysis",
      "provenance": [],
      "collapsed_sections": [],
      "include_colab_link": true
    },
    "kernelspec": {
      "name": "python3",
      "display_name": "Python 3"
    },
    "language_info": {
      "name": "python"
    }
  },
  "cells": [
    {
      "cell_type": "markdown",
      "metadata": {
        "id": "view-in-github",
        "colab_type": "text"
      },
      "source": [
        "<a href=\"https://colab.research.google.com/github/pkrakula/Project/blob/main/Log_Analysis.ipynb\" target=\"_parent\"><img src=\"https://colab.research.google.com/assets/colab-badge.svg\" alt=\"Open In Colab\"/></a>"
      ]
    },
    {
      "cell_type": "code",
      "metadata": {
        "colab": {
          "base_uri": "https://localhost:8080/"
        },
        "id": "Lo0ivBaGl7Hu",
        "outputId": "7ff9a1d7-2c14-4848-c8a9-f2770874f1b3"
      },
      "source": [
        "import pandas as pd\n",
        "df = pd.read_csv('Zookeeper_latest.log', sep=\"INFO\",header=None,error_bad_lines=False)\n",
        "print(df)"
      ],
      "execution_count": 1,
      "outputs": [
        {
          "output_type": "stream",
          "name": "stderr",
          "text": [
            "/usr/local/lib/python3.7/dist-packages/ipykernel_launcher.py:2: ParserWarning: Falling back to the 'python' engine because the 'c' engine does not support regex separators (separators > 1 char and different from '\\s+' are interpreted as regex); you can avoid this warning by specifying engine='python'.\n",
            "  \n"
          ]
        },
        {
          "output_type": "stream",
          "name": "stdout",
          "text": [
            "                                0                                                  1\n",
            "0      2015-07-29 17:41:41,536 -     [main:QuorumPeerConfig@101] - Reading config...\n",
            "1      2015-07-29 17:41:41,544 -     [main:QuorumPeerConfig@334] - Defaulting to ...\n",
            "2      2015-07-29 17:41:41,555 -     [main:DatadirCleanupManager@78] - autopurge....\n",
            "3      2015-07-29 17:41:41,555 -     [main:DatadirCleanupManager@79] - autopurge....\n",
            "4      2015-07-29 17:41:41,557 -     [main:DatadirCleanupManager@101] - Purge tas...\n",
            "...                           ...                                                ...\n",
            "74375  2015-08-25 11:26:27,898 -     [WorkerReceiver[myid=3]:FastLeaderElection@5...\n",
            "74376  2015-08-25 11:26:28,138 -     [LearnerHandler-/10.10.34.12:38330:LearnerHa...\n",
            "74377  2015-08-25 11:26:28,159 -     [LearnerHandler-/10.10.34.12:38330:LearnerHa...\n",
            "74378  2015-08-25 11:26:28,159 -     [LearnerHandler-/10.10.34.12:38330:LearnerHa...\n",
            "74379  2015-08-25 11:26:28,159 -     [LearnerHandler-/10.10.34.12:38330:LearnerHa...\n",
            "\n",
            "[74380 rows x 2 columns]\n"
          ]
        }
      ]
    },
    {
      "cell_type": "code",
      "metadata": {
        "id": "sYbSI_rhxAnY"
      },
      "source": [
        "import sklearn"
      ],
      "execution_count": 2,
      "outputs": []
    },
    {
      "cell_type": "code",
      "metadata": {
        "colab": {
          "base_uri": "https://localhost:8080/"
        },
        "id": "daozfXukv33h",
        "outputId": "ecb2bf32-7817-4a05-bd1f-c87259c27f5e"
      },
      "source": [
        "print(sklearn.__version__)"
      ],
      "execution_count": 3,
      "outputs": [
        {
          "output_type": "stream",
          "name": "stdout",
          "text": [
            "0.22.2.post1\n"
          ]
        }
      ]
    },
    {
      "cell_type": "code",
      "metadata": {
        "colab": {
          "base_uri": "https://localhost:8080/",
          "height": 419
        },
        "id": "O9sM-H2bmCJe",
        "outputId": "274162c0-84f3-440c-d38c-a206f3ace3c5"
      },
      "source": [
        "df"
      ],
      "execution_count": 4,
      "outputs": [
        {
          "output_type": "execute_result",
          "data": {
            "text/html": [
              "<div>\n",
              "<style scoped>\n",
              "    .dataframe tbody tr th:only-of-type {\n",
              "        vertical-align: middle;\n",
              "    }\n",
              "\n",
              "    .dataframe tbody tr th {\n",
              "        vertical-align: top;\n",
              "    }\n",
              "\n",
              "    .dataframe thead th {\n",
              "        text-align: right;\n",
              "    }\n",
              "</style>\n",
              "<table border=\"1\" class=\"dataframe\">\n",
              "  <thead>\n",
              "    <tr style=\"text-align: right;\">\n",
              "      <th></th>\n",
              "      <th>0</th>\n",
              "      <th>1</th>\n",
              "    </tr>\n",
              "  </thead>\n",
              "  <tbody>\n",
              "    <tr>\n",
              "      <th>0</th>\n",
              "      <td>2015-07-29 17:41:41,536 -</td>\n",
              "      <td>[main:QuorumPeerConfig@101] - Reading config...</td>\n",
              "    </tr>\n",
              "    <tr>\n",
              "      <th>1</th>\n",
              "      <td>2015-07-29 17:41:41,544 -</td>\n",
              "      <td>[main:QuorumPeerConfig@334] - Defaulting to ...</td>\n",
              "    </tr>\n",
              "    <tr>\n",
              "      <th>2</th>\n",
              "      <td>2015-07-29 17:41:41,555 -</td>\n",
              "      <td>[main:DatadirCleanupManager@78] - autopurge....</td>\n",
              "    </tr>\n",
              "    <tr>\n",
              "      <th>3</th>\n",
              "      <td>2015-07-29 17:41:41,555 -</td>\n",
              "      <td>[main:DatadirCleanupManager@79] - autopurge....</td>\n",
              "    </tr>\n",
              "    <tr>\n",
              "      <th>4</th>\n",
              "      <td>2015-07-29 17:41:41,557 -</td>\n",
              "      <td>[main:DatadirCleanupManager@101] - Purge tas...</td>\n",
              "    </tr>\n",
              "    <tr>\n",
              "      <th>...</th>\n",
              "      <td>...</td>\n",
              "      <td>...</td>\n",
              "    </tr>\n",
              "    <tr>\n",
              "      <th>74375</th>\n",
              "      <td>2015-08-25 11:26:27,898 -</td>\n",
              "      <td>[WorkerReceiver[myid=3]:FastLeaderElection@5...</td>\n",
              "    </tr>\n",
              "    <tr>\n",
              "      <th>74376</th>\n",
              "      <td>2015-08-25 11:26:28,138 -</td>\n",
              "      <td>[LearnerHandler-/10.10.34.12:38330:LearnerHa...</td>\n",
              "    </tr>\n",
              "    <tr>\n",
              "      <th>74377</th>\n",
              "      <td>2015-08-25 11:26:28,159 -</td>\n",
              "      <td>[LearnerHandler-/10.10.34.12:38330:LearnerHa...</td>\n",
              "    </tr>\n",
              "    <tr>\n",
              "      <th>74378</th>\n",
              "      <td>2015-08-25 11:26:28,159 -</td>\n",
              "      <td>[LearnerHandler-/10.10.34.12:38330:LearnerHa...</td>\n",
              "    </tr>\n",
              "    <tr>\n",
              "      <th>74379</th>\n",
              "      <td>2015-08-25 11:26:28,159 -</td>\n",
              "      <td>[LearnerHandler-/10.10.34.12:38330:LearnerHa...</td>\n",
              "    </tr>\n",
              "  </tbody>\n",
              "</table>\n",
              "<p>74380 rows × 2 columns</p>\n",
              "</div>"
            ],
            "text/plain": [
              "                                0                                                  1\n",
              "0      2015-07-29 17:41:41,536 -     [main:QuorumPeerConfig@101] - Reading config...\n",
              "1      2015-07-29 17:41:41,544 -     [main:QuorumPeerConfig@334] - Defaulting to ...\n",
              "2      2015-07-29 17:41:41,555 -     [main:DatadirCleanupManager@78] - autopurge....\n",
              "3      2015-07-29 17:41:41,555 -     [main:DatadirCleanupManager@79] - autopurge....\n",
              "4      2015-07-29 17:41:41,557 -     [main:DatadirCleanupManager@101] - Purge tas...\n",
              "...                           ...                                                ...\n",
              "74375  2015-08-25 11:26:27,898 -     [WorkerReceiver[myid=3]:FastLeaderElection@5...\n",
              "74376  2015-08-25 11:26:28,138 -     [LearnerHandler-/10.10.34.12:38330:LearnerHa...\n",
              "74377  2015-08-25 11:26:28,159 -     [LearnerHandler-/10.10.34.12:38330:LearnerHa...\n",
              "74378  2015-08-25 11:26:28,159 -     [LearnerHandler-/10.10.34.12:38330:LearnerHa...\n",
              "74379  2015-08-25 11:26:28,159 -     [LearnerHandler-/10.10.34.12:38330:LearnerHa...\n",
              "\n",
              "[74380 rows x 2 columns]"
            ]
          },
          "metadata": {},
          "execution_count": 4
        }
      ]
    },
    {
      "cell_type": "code",
      "metadata": {
        "id": "z0FvTS_tmCtt"
      },
      "source": [
        "df.columns=['Date&Time','Message']"
      ],
      "execution_count": 5,
      "outputs": []
    },
    {
      "cell_type": "code",
      "metadata": {
        "colab": {
          "base_uri": "https://localhost:8080/",
          "height": 419
        },
        "id": "vGMk8XG2mE6O",
        "outputId": "4027cfe1-3111-473d-f152-30b2952e4483"
      },
      "source": [
        "df"
      ],
      "execution_count": 6,
      "outputs": [
        {
          "output_type": "execute_result",
          "data": {
            "text/html": [
              "<div>\n",
              "<style scoped>\n",
              "    .dataframe tbody tr th:only-of-type {\n",
              "        vertical-align: middle;\n",
              "    }\n",
              "\n",
              "    .dataframe tbody tr th {\n",
              "        vertical-align: top;\n",
              "    }\n",
              "\n",
              "    .dataframe thead th {\n",
              "        text-align: right;\n",
              "    }\n",
              "</style>\n",
              "<table border=\"1\" class=\"dataframe\">\n",
              "  <thead>\n",
              "    <tr style=\"text-align: right;\">\n",
              "      <th></th>\n",
              "      <th>Date&amp;Time</th>\n",
              "      <th>Message</th>\n",
              "    </tr>\n",
              "  </thead>\n",
              "  <tbody>\n",
              "    <tr>\n",
              "      <th>0</th>\n",
              "      <td>2015-07-29 17:41:41,536 -</td>\n",
              "      <td>[main:QuorumPeerConfig@101] - Reading config...</td>\n",
              "    </tr>\n",
              "    <tr>\n",
              "      <th>1</th>\n",
              "      <td>2015-07-29 17:41:41,544 -</td>\n",
              "      <td>[main:QuorumPeerConfig@334] - Defaulting to ...</td>\n",
              "    </tr>\n",
              "    <tr>\n",
              "      <th>2</th>\n",
              "      <td>2015-07-29 17:41:41,555 -</td>\n",
              "      <td>[main:DatadirCleanupManager@78] - autopurge....</td>\n",
              "    </tr>\n",
              "    <tr>\n",
              "      <th>3</th>\n",
              "      <td>2015-07-29 17:41:41,555 -</td>\n",
              "      <td>[main:DatadirCleanupManager@79] - autopurge....</td>\n",
              "    </tr>\n",
              "    <tr>\n",
              "      <th>4</th>\n",
              "      <td>2015-07-29 17:41:41,557 -</td>\n",
              "      <td>[main:DatadirCleanupManager@101] - Purge tas...</td>\n",
              "    </tr>\n",
              "    <tr>\n",
              "      <th>...</th>\n",
              "      <td>...</td>\n",
              "      <td>...</td>\n",
              "    </tr>\n",
              "    <tr>\n",
              "      <th>74375</th>\n",
              "      <td>2015-08-25 11:26:27,898 -</td>\n",
              "      <td>[WorkerReceiver[myid=3]:FastLeaderElection@5...</td>\n",
              "    </tr>\n",
              "    <tr>\n",
              "      <th>74376</th>\n",
              "      <td>2015-08-25 11:26:28,138 -</td>\n",
              "      <td>[LearnerHandler-/10.10.34.12:38330:LearnerHa...</td>\n",
              "    </tr>\n",
              "    <tr>\n",
              "      <th>74377</th>\n",
              "      <td>2015-08-25 11:26:28,159 -</td>\n",
              "      <td>[LearnerHandler-/10.10.34.12:38330:LearnerHa...</td>\n",
              "    </tr>\n",
              "    <tr>\n",
              "      <th>74378</th>\n",
              "      <td>2015-08-25 11:26:28,159 -</td>\n",
              "      <td>[LearnerHandler-/10.10.34.12:38330:LearnerHa...</td>\n",
              "    </tr>\n",
              "    <tr>\n",
              "      <th>74379</th>\n",
              "      <td>2015-08-25 11:26:28,159 -</td>\n",
              "      <td>[LearnerHandler-/10.10.34.12:38330:LearnerHa...</td>\n",
              "    </tr>\n",
              "  </tbody>\n",
              "</table>\n",
              "<p>74380 rows × 2 columns</p>\n",
              "</div>"
            ],
            "text/plain": [
              "                        Date&Time                                            Message\n",
              "0      2015-07-29 17:41:41,536 -     [main:QuorumPeerConfig@101] - Reading config...\n",
              "1      2015-07-29 17:41:41,544 -     [main:QuorumPeerConfig@334] - Defaulting to ...\n",
              "2      2015-07-29 17:41:41,555 -     [main:DatadirCleanupManager@78] - autopurge....\n",
              "3      2015-07-29 17:41:41,555 -     [main:DatadirCleanupManager@79] - autopurge....\n",
              "4      2015-07-29 17:41:41,557 -     [main:DatadirCleanupManager@101] - Purge tas...\n",
              "...                           ...                                                ...\n",
              "74375  2015-08-25 11:26:27,898 -     [WorkerReceiver[myid=3]:FastLeaderElection@5...\n",
              "74376  2015-08-25 11:26:28,138 -     [LearnerHandler-/10.10.34.12:38330:LearnerHa...\n",
              "74377  2015-08-25 11:26:28,159 -     [LearnerHandler-/10.10.34.12:38330:LearnerHa...\n",
              "74378  2015-08-25 11:26:28,159 -     [LearnerHandler-/10.10.34.12:38330:LearnerHa...\n",
              "74379  2015-08-25 11:26:28,159 -     [LearnerHandler-/10.10.34.12:38330:LearnerHa...\n",
              "\n",
              "[74380 rows x 2 columns]"
            ]
          },
          "metadata": {},
          "execution_count": 6
        }
      ]
    },
    {
      "cell_type": "code",
      "metadata": {
        "id": "hEe6U53aG5AO"
      },
      "source": [
        "df=df.head(25000)"
      ],
      "execution_count": 7,
      "outputs": []
    },
    {
      "cell_type": "code",
      "metadata": {
        "id": "rTzw_gAV_FHt"
      },
      "source": [
        "import string\n",
        "import nltk\n",
        "from nltk.corpus import stopwords\n",
        "from nltk import PorterStemmer"
      ],
      "execution_count": 8,
      "outputs": []
    },
    {
      "cell_type": "code",
      "metadata": {
        "colab": {
          "base_uri": "https://localhost:8080/"
        },
        "id": "AvU9H6NC7bgF",
        "outputId": "75aecee0-737f-4e13-bd71-c442a6a6a8bd"
      },
      "source": [
        "nltk.download('stopwords')"
      ],
      "execution_count": 9,
      "outputs": [
        {
          "output_type": "stream",
          "name": "stdout",
          "text": [
            "[nltk_data] Downloading package stopwords to /root/nltk_data...\n",
            "[nltk_data]   Package stopwords is already up-to-date!\n"
          ]
        },
        {
          "output_type": "execute_result",
          "data": {
            "text/plain": [
              "True"
            ]
          },
          "metadata": {},
          "execution_count": 9
        }
      ]
    },
    {
      "cell_type": "code",
      "metadata": {
        "id": "DVI86T7r_Njz"
      },
      "source": [
        "STOPWORDS=stopwords.words(\"english\") #stopwords are the most common unnecessary words. eg is, he, that, etc."
      ],
      "execution_count": 10,
      "outputs": []
    },
    {
      "cell_type": "code",
      "metadata": {
        "id": "8uT1iuf4_SRH"
      },
      "source": [
        "def deEmojify(text):\n",
        "    regrex_pattern = re.compile(pattern = \"[\"\n",
        "        u\"\\U0001F600-\\U0001F64F\"  # emoticons\n",
        "        u\"\\U0001F300-\\U0001F5FF\"  # symbols & pictographs\n",
        "        u\"\\U0001F680-\\U0001F6FF\"  # transport & map symbols\n",
        "        u\"\\U0001F1E0-\\U0001F1FF\"  # flags (iOS)\n",
        "                           \"]+\", flags = re.UNICODE)\n",
        "    return regrex_pattern.sub(r'',text)"
      ],
      "execution_count": 11,
      "outputs": []
    },
    {
      "cell_type": "code",
      "metadata": {
        "id": "UY6NnnhJ_VA1"
      },
      "source": [
        "import string   \n",
        "import re\n",
        "\n",
        "def clean_text(text):\n",
        "    ps=PorterStemmer()\n",
        "    \n",
        "    text=deEmojify(text) # remove emojis\n",
        "    text_cleaned=\"\".join([x for x in text if x not in string.punctuation]) # remove punctuation\n",
        "\n",
        "    text_cleaned=re.sub(' +', ' ', text_cleaned) # remove extra white spaces\n",
        "    text_cleaned=text_cleaned.lower() # converting to lowercase\n",
        "    tokens=text_cleaned.split(\" \")\n",
        "    tokens=[token for token in tokens if token not in STOPWORDS] # Taking only those words which are not stopwords\n",
        "    stemmed=[ps.stem(token) for token in tokens]\n",
        "    text_cleaned=\" \".join([ps.stem(token) for token in tokens])\n",
        "    return text_cleaned"
      ],
      "execution_count": 12,
      "outputs": []
    },
    {
      "cell_type": "code",
      "metadata": {
        "id": "RR7kVHm_mQ7y",
        "colab": {
          "base_uri": "https://localhost:8080/"
        },
        "outputId": "1202f055-a5fa-4423-cb0b-d52bfacbbc89"
      },
      "source": [
        "df['Message']=df['Message'].apply(str)"
      ],
      "execution_count": 13,
      "outputs": [
        {
          "output_type": "stream",
          "name": "stderr",
          "text": [
            "/usr/local/lib/python3.7/dist-packages/ipykernel_launcher.py:1: SettingWithCopyWarning: \n",
            "A value is trying to be set on a copy of a slice from a DataFrame.\n",
            "Try using .loc[row_indexer,col_indexer] = value instead\n",
            "\n",
            "See the caveats in the documentation: https://pandas.pydata.org/pandas-docs/stable/user_guide/indexing.html#returning-a-view-versus-a-copy\n",
            "  \"\"\"Entry point for launching an IPython kernel.\n"
          ]
        }
      ]
    },
    {
      "cell_type": "code",
      "metadata": {
        "id": "ySdFEBL6mRZL",
        "colab": {
          "base_uri": "https://localhost:8080/"
        },
        "outputId": "848dd6f6-5032-4fd9-e6ad-a335cd70b92b"
      },
      "source": [
        "df['cleaned_comments']=df['Message'].apply(lambda x:clean_text(x))"
      ],
      "execution_count": 14,
      "outputs": [
        {
          "output_type": "stream",
          "name": "stderr",
          "text": [
            "/usr/local/lib/python3.7/dist-packages/ipykernel_launcher.py:1: SettingWithCopyWarning: \n",
            "A value is trying to be set on a copy of a slice from a DataFrame.\n",
            "Try using .loc[row_indexer,col_indexer] = value instead\n",
            "\n",
            "See the caveats in the documentation: https://pandas.pydata.org/pandas-docs/stable/user_guide/indexing.html#returning-a-view-versus-a-copy\n",
            "  \"\"\"Entry point for launching an IPython kernel.\n"
          ]
        }
      ]
    },
    {
      "cell_type": "code",
      "metadata": {
        "colab": {
          "base_uri": "https://localhost:8080/"
        },
        "id": "DbhVELnFmTS-",
        "outputId": "f8733d72-8f56-46fa-964f-62174da2ef54"
      },
      "source": [
        "from collections import Counter\n",
        "dt=df['Message']\n",
        "p = Counter(\" \".join(dt).split()).most_common(50)\n",
        "rslt = pd.DataFrame(p, columns=['Word', 'Frequency'])\n",
        "print(rslt)"
      ],
      "execution_count": 15,
      "outputs": [
        {
          "output_type": "stream",
          "name": "stdout",
          "text": [
            "                                                 Word  Frequency\n",
            "0                                                None      16806\n",
            "1                                                   -       8228\n",
            "2                                          connection       4770\n",
            "3                                             request       3530\n",
            "4   [/10.10.34.11:3888:QuorumCnxManager$Listener@493]       3524\n",
            "5                                            Received       3524\n",
            "6                                             session       1897\n",
            "7                                                 for       1552\n",
            "8                                              socket       1246\n",
            "9                                              client       1238\n",
            "10                                            timeout        944\n",
            "11  [QuorumPeer[myid=1]/0:0:0:0:0:0:0:0:2181:FastL...        772\n",
            "12                                       Notification        772\n",
            "13                                               time        772\n",
            "14                                               out:        772\n",
            "15                                                 to        760\n",
            "16                                              60000        714\n",
            "17                                               from        662\n",
            "18                                               with        659\n",
            "19  [NIOServerCxn.Factory:0.0.0.0/0.0.0.0:2181:NIO...        646\n",
            "20                                           Accepted        646\n",
            "21                                             Client        639\n",
            "22                                         attempting        639\n",
            "23                                                 at        639\n",
            "24                                        Established        638\n",
            "25                                         negotiated        638\n",
            "26                                                new        617\n",
            "27  [NIOServerCxn.Factory:0.0.0.0/0.0.0.0:2181:Zoo...        610\n",
            "28                                          establish        610\n",
            "29            [CommitProcessor:1:ZooKeeperServer@595]        610\n",
            "30                                             Closed        600\n",
            "31                                              which        593\n",
            "32                                                had        593\n",
            "33                                          sessionid        593\n",
            "34                                              10000        576\n",
            "35  [NIOServerCxn.Factory:0.0.0.0/0.0.0.0:2181:NIO...        572\n",
            "36                                                 of        318\n",
            "37                               [ProcessThread(sid:1        308\n",
            "38               cport:-1)::PrepRequestProcessor@476]        307\n",
            "39                                          Processed        307\n",
            "40                                        termination        307\n",
            "41                                         sessionid:        307\n",
            "42               [SessionTracker:ZooKeeperServer@325]        306\n",
            "43                                           Expiring        306\n",
            "44                                           exceeded        306\n",
            "45                                            10000ms        274\n",
            "46                                            LOOKING        272\n",
            "47    [WorkerReceiver[myid=1]:FastLeaderElection@542]        168\n",
            "48                                      Notification:        168\n",
            "49                                        (n.leader),        168\n"
          ]
        }
      ]
    },
    {
      "cell_type": "code",
      "metadata": {
        "id": "TXUhMnwOmXQY"
      },
      "source": [
        "import matplotlib.pyplot as plt\n",
        "import seaborn as sns"
      ],
      "execution_count": 16,
      "outputs": []
    },
    {
      "cell_type": "code",
      "metadata": {
        "colab": {
          "base_uri": "https://localhost:8080/"
        },
        "id": "a5pXubNYma8J",
        "outputId": "87f637c1-9f5c-4afc-cc5b-a14c2d38b7e5"
      },
      "source": [
        "!pip install wordcloud"
      ],
      "execution_count": 17,
      "outputs": [
        {
          "output_type": "stream",
          "name": "stdout",
          "text": [
            "Requirement already satisfied: wordcloud in /usr/local/lib/python3.7/dist-packages (1.5.0)\n",
            "Requirement already satisfied: numpy>=1.6.1 in /usr/local/lib/python3.7/dist-packages (from wordcloud) (1.19.5)\n",
            "Requirement already satisfied: pillow in /usr/local/lib/python3.7/dist-packages (from wordcloud) (7.1.2)\n"
          ]
        }
      ]
    },
    {
      "cell_type": "code",
      "metadata": {
        "id": "cMMserhgmfd4"
      },
      "source": [
        "X=df[['cleaned_comments']]"
      ],
      "execution_count": 18,
      "outputs": []
    },
    {
      "cell_type": "code",
      "metadata": {
        "colab": {
          "base_uri": "https://localhost:8080/",
          "height": 419
        },
        "id": "UIUyd2bhmiFJ",
        "outputId": "c75451a5-f030-4d98-f891-2e05f0c0f7b2"
      },
      "source": [
        "X"
      ],
      "execution_count": 19,
      "outputs": [
        {
          "output_type": "execute_result",
          "data": {
            "text/html": [
              "<div>\n",
              "<style scoped>\n",
              "    .dataframe tbody tr th:only-of-type {\n",
              "        vertical-align: middle;\n",
              "    }\n",
              "\n",
              "    .dataframe tbody tr th {\n",
              "        vertical-align: top;\n",
              "    }\n",
              "\n",
              "    .dataframe thead th {\n",
              "        text-align: right;\n",
              "    }\n",
              "</style>\n",
              "<table border=\"1\" class=\"dataframe\">\n",
              "  <thead>\n",
              "    <tr style=\"text-align: right;\">\n",
              "      <th></th>\n",
              "      <th>cleaned_comments</th>\n",
              "    </tr>\n",
              "  </thead>\n",
              "  <tbody>\n",
              "    <tr>\n",
              "      <th>0</th>\n",
              "      <td>mainquorumpeerconfig101 read configur etczook...</td>\n",
              "    </tr>\n",
              "    <tr>\n",
              "      <th>1</th>\n",
              "      <td>mainquorumpeerconfig334 default major quorum</td>\n",
              "    </tr>\n",
              "    <tr>\n",
              "      <th>2</th>\n",
              "      <td>maindatadircleanupmanager78 autopurgesnapreta...</td>\n",
              "    </tr>\n",
              "    <tr>\n",
              "      <th>3</th>\n",
              "      <td>maindatadircleanupmanager79 autopurgepurgeint...</td>\n",
              "    </tr>\n",
              "    <tr>\n",
              "      <th>4</th>\n",
              "      <td>maindatadircleanupmanager101 purg task schedul</td>\n",
              "    </tr>\n",
              "    <tr>\n",
              "      <th>...</th>\n",
              "      <td>...</td>\n",
              "    </tr>\n",
              "    <tr>\n",
              "      <th>24995</th>\n",
              "      <td>none</td>\n",
              "    </tr>\n",
              "    <tr>\n",
              "      <th>24996</th>\n",
              "      <td>none</td>\n",
              "    </tr>\n",
              "    <tr>\n",
              "      <th>24997</th>\n",
              "      <td>quorumpeermyid1000000002181fastleaderelection...</td>\n",
              "    </tr>\n",
              "    <tr>\n",
              "      <th>24998</th>\n",
              "      <td>none</td>\n",
              "    </tr>\n",
              "    <tr>\n",
              "      <th>24999</th>\n",
              "      <td>none</td>\n",
              "    </tr>\n",
              "  </tbody>\n",
              "</table>\n",
              "<p>25000 rows × 1 columns</p>\n",
              "</div>"
            ],
            "text/plain": [
              "                                        cleaned_comments\n",
              "0       mainquorumpeerconfig101 read configur etczook...\n",
              "1           mainquorumpeerconfig334 default major quorum\n",
              "2       maindatadircleanupmanager78 autopurgesnapreta...\n",
              "3       maindatadircleanupmanager79 autopurgepurgeint...\n",
              "4         maindatadircleanupmanager101 purg task schedul\n",
              "...                                                  ...\n",
              "24995                                               none\n",
              "24996                                               none\n",
              "24997   quorumpeermyid1000000002181fastleaderelection...\n",
              "24998                                               none\n",
              "24999                                               none\n",
              "\n",
              "[25000 rows x 1 columns]"
            ]
          },
          "metadata": {},
          "execution_count": 19
        }
      ]
    },
    {
      "cell_type": "code",
      "metadata": {
        "id": "PKxRc9RgUdZ6"
      },
      "source": [
        "X=X[X['cleaned_comments'] != 'none']"
      ],
      "execution_count": 20,
      "outputs": []
    },
    {
      "cell_type": "code",
      "metadata": {
        "colab": {
          "base_uri": "https://localhost:8080/",
          "height": 419
        },
        "id": "Ks7rwrX4Ujnx",
        "outputId": "fa4af89d-58a5-4f6c-8572-7b4c2af24168"
      },
      "source": [
        "X"
      ],
      "execution_count": 21,
      "outputs": [
        {
          "output_type": "execute_result",
          "data": {
            "text/html": [
              "<div>\n",
              "<style scoped>\n",
              "    .dataframe tbody tr th:only-of-type {\n",
              "        vertical-align: middle;\n",
              "    }\n",
              "\n",
              "    .dataframe tbody tr th {\n",
              "        vertical-align: top;\n",
              "    }\n",
              "\n",
              "    .dataframe thead th {\n",
              "        text-align: right;\n",
              "    }\n",
              "</style>\n",
              "<table border=\"1\" class=\"dataframe\">\n",
              "  <thead>\n",
              "    <tr style=\"text-align: right;\">\n",
              "      <th></th>\n",
              "      <th>cleaned_comments</th>\n",
              "    </tr>\n",
              "  </thead>\n",
              "  <tbody>\n",
              "    <tr>\n",
              "      <th>0</th>\n",
              "      <td>mainquorumpeerconfig101 read configur etczook...</td>\n",
              "    </tr>\n",
              "    <tr>\n",
              "      <th>1</th>\n",
              "      <td>mainquorumpeerconfig334 default major quorum</td>\n",
              "    </tr>\n",
              "    <tr>\n",
              "      <th>2</th>\n",
              "      <td>maindatadircleanupmanager78 autopurgesnapreta...</td>\n",
              "    </tr>\n",
              "    <tr>\n",
              "      <th>3</th>\n",
              "      <td>maindatadircleanupmanager79 autopurgepurgeint...</td>\n",
              "    </tr>\n",
              "    <tr>\n",
              "      <th>4</th>\n",
              "      <td>maindatadircleanupmanager101 purg task schedul</td>\n",
              "    </tr>\n",
              "    <tr>\n",
              "      <th>...</th>\n",
              "      <td>...</td>\n",
              "    </tr>\n",
              "    <tr>\n",
              "      <th>24985</th>\n",
              "      <td>quorumpeermyid1000000002181fastleaderelection...</td>\n",
              "    </tr>\n",
              "    <tr>\n",
              "      <th>24988</th>\n",
              "      <td>quorumpeermyid1000000002181fastleaderelection...</td>\n",
              "    </tr>\n",
              "    <tr>\n",
              "      <th>24991</th>\n",
              "      <td>quorumpeermyid1000000002181fastleaderelection...</td>\n",
              "    </tr>\n",
              "    <tr>\n",
              "      <th>24994</th>\n",
              "      <td>quorumpeermyid1000000002181fastleaderelection...</td>\n",
              "    </tr>\n",
              "    <tr>\n",
              "      <th>24997</th>\n",
              "      <td>quorumpeermyid1000000002181fastleaderelection...</td>\n",
              "    </tr>\n",
              "  </tbody>\n",
              "</table>\n",
              "<p>8194 rows × 1 columns</p>\n",
              "</div>"
            ],
            "text/plain": [
              "                                        cleaned_comments\n",
              "0       mainquorumpeerconfig101 read configur etczook...\n",
              "1           mainquorumpeerconfig334 default major quorum\n",
              "2       maindatadircleanupmanager78 autopurgesnapreta...\n",
              "3       maindatadircleanupmanager79 autopurgepurgeint...\n",
              "4         maindatadircleanupmanager101 purg task schedul\n",
              "...                                                  ...\n",
              "24985   quorumpeermyid1000000002181fastleaderelection...\n",
              "24988   quorumpeermyid1000000002181fastleaderelection...\n",
              "24991   quorumpeermyid1000000002181fastleaderelection...\n",
              "24994   quorumpeermyid1000000002181fastleaderelection...\n",
              "24997   quorumpeermyid1000000002181fastleaderelection...\n",
              "\n",
              "[8194 rows x 1 columns]"
            ]
          },
          "metadata": {},
          "execution_count": 21
        }
      ]
    },
    {
      "cell_type": "code",
      "metadata": {
        "id": "YXmYBwNWmliB"
      },
      "source": [
        "X_data=X.iloc[:,:].values"
      ],
      "execution_count": 22,
      "outputs": []
    },
    {
      "cell_type": "code",
      "metadata": {
        "colab": {
          "base_uri": "https://localhost:8080/"
        },
        "id": "LBw8ClnTmoH3",
        "outputId": "1ef52385-dab1-4848-d612-9907dc5fd43b"
      },
      "source": [
        "X_data"
      ],
      "execution_count": 23,
      "outputs": [
        {
          "output_type": "execute_result",
          "data": {
            "text/plain": [
              "array([[' mainquorumpeerconfig101 read configur etczookeeperconfzoocfg'],\n",
              "       [' mainquorumpeerconfig334 default major quorum'],\n",
              "       [' maindatadircleanupmanager78 autopurgesnapretaincount set 3'],\n",
              "       ...,\n",
              "       [' quorumpeermyid1000000002181fastleaderelection774 notif time 60000'],\n",
              "       [' quorumpeermyid1000000002181fastleaderelection774 notif time 60000'],\n",
              "       [' quorumpeermyid1000000002181fastleaderelection774 notif time 60000']],\n",
              "      dtype=object)"
            ]
          },
          "metadata": {},
          "execution_count": 23
        }
      ]
    },
    {
      "cell_type": "code",
      "metadata": {
        "id": "rFvxPXDPmqS9"
      },
      "source": [
        "from sklearn.feature_extraction.text import TfidfVectorizer\n",
        "vectorizer = TfidfVectorizer(max_features=100,ngram_range=(1,1))\n",
        "X_data_vectored = vectorizer.fit_transform(X_data.ravel())"
      ],
      "execution_count": 24,
      "outputs": []
    },
    {
      "cell_type": "code",
      "metadata": {
        "colab": {
          "base_uri": "https://localhost:8080/"
        },
        "id": "5E7sT_KnmsQT",
        "outputId": "a6ea582a-df44-44d1-cd2f-2fcc58721282"
      },
      "source": [
        "X_data_vectored"
      ],
      "execution_count": 25,
      "outputs": [
        {
          "output_type": "execute_result",
          "data": {
            "text/plain": [
              "<8194x100 sparse matrix of type '<class 'numpy.float64'>'\n",
              "\twith 38840 stored elements in Compressed Sparse Row format>"
            ]
          },
          "metadata": {},
          "execution_count": 25
        }
      ]
    },
    {
      "cell_type": "code",
      "metadata": {
        "colab": {
          "base_uri": "https://localhost:8080/"
        },
        "id": "4YgZ8g_kmvMV",
        "outputId": "9ba200e4-5be2-4f8e-bd83-46fc8683bbd6"
      },
      "source": [
        "!pip install sparse"
      ],
      "execution_count": 26,
      "outputs": [
        {
          "output_type": "stream",
          "name": "stdout",
          "text": [
            "Requirement already satisfied: sparse in /usr/local/lib/python3.7/dist-packages (0.13.0)\n",
            "Requirement already satisfied: numba>=0.49 in /usr/local/lib/python3.7/dist-packages (from sparse) (0.51.2)\n",
            "Requirement already satisfied: numpy>=1.17 in /usr/local/lib/python3.7/dist-packages (from sparse) (1.19.5)\n",
            "Requirement already satisfied: scipy>=0.19 in /usr/local/lib/python3.7/dist-packages (from sparse) (1.4.1)\n",
            "Requirement already satisfied: setuptools in /usr/local/lib/python3.7/dist-packages (from numba>=0.49->sparse) (57.4.0)\n",
            "Requirement already satisfied: llvmlite<0.35,>=0.34.0.dev0 in /usr/local/lib/python3.7/dist-packages (from numba>=0.49->sparse) (0.34.0)\n"
          ]
        }
      ]
    },
    {
      "cell_type": "code",
      "metadata": {
        "id": "_ZOzBCXWmxq2"
      },
      "source": [
        "X_data_array=X_data_vectored.toarray()"
      ],
      "execution_count": 27,
      "outputs": []
    },
    {
      "cell_type": "code",
      "metadata": {
        "colab": {
          "base_uri": "https://localhost:8080/"
        },
        "id": "AUCytOU-mzYj",
        "outputId": "e48fec7d-6c80-4906-dbe6-e830e785f0cb"
      },
      "source": [
        "X_data_array"
      ],
      "execution_count": 28,
      "outputs": [
        {
          "output_type": "execute_result",
          "data": {
            "text/plain": [
              "array([[0., 0., 0., ..., 0., 0., 0.],\n",
              "       [0., 0., 0., ..., 0., 0., 0.],\n",
              "       [0., 0., 0., ..., 0., 0., 0.],\n",
              "       ...,\n",
              "       [0., 0., 0., ..., 0., 0., 0.],\n",
              "       [0., 0., 0., ..., 0., 0., 0.],\n",
              "       [0., 0., 0., ..., 0., 0., 0.]])"
            ]
          },
          "metadata": {},
          "execution_count": 28
        }
      ]
    },
    {
      "cell_type": "code",
      "metadata": {
        "colab": {
          "base_uri": "https://localhost:8080/"
        },
        "id": "kJfCylXim1SC",
        "outputId": "2e95d1fc-514c-47a2-bf8b-1f4c4c8f802c"
      },
      "source": [
        "X_data_array.shape"
      ],
      "execution_count": 29,
      "outputs": [
        {
          "output_type": "execute_result",
          "data": {
            "text/plain": [
              "(8194, 100)"
            ]
          },
          "metadata": {},
          "execution_count": 29
        }
      ]
    },
    {
      "cell_type": "code",
      "metadata": {
        "colab": {
          "base_uri": "https://localhost:8080/",
          "height": 295
        },
        "id": "diblNUsCm3OX",
        "outputId": "b68477c8-cef3-40c0-bdeb-21139f439e38"
      },
      "source": [
        "from sklearn.cluster import KMeans\n",
        "wcss = []\n",
        "for i in range(1, 10):\n",
        "    kmeans = KMeans(n_clusters = i, init = 'k-means++', random_state = 42)\n",
        "    kmeans.fit(X_data_array)\n",
        "    wcss.append(kmeans.inertia_)\n",
        "plt.plot(range(1, 10), wcss)\n",
        "plt.title('The Elbow Method')\n",
        "plt.xlabel('Number of clusters')\n",
        "plt.ylabel('WCSS')\n",
        "plt.show()"
      ],
      "execution_count": 30,
      "outputs": [
        {
          "output_type": "display_data",
          "data": {
            "image/png": "[encoded data removed]",
            "text/plain": [
              "<Figure size 432x288 with 1 Axes>"
            ]
          },
          "metadata": {
            "needs_background": "light"
          }
        }
      ]
    },
    {
      "cell_type": "markdown",
      "metadata": {
        "id": "oHm3S669nsh2"
      },
      "source": [
        "**K Measn Clustering**"
      ]
    },
    {
      "cell_type": "code",
      "metadata": {
        "id": "RCI2_dpwm5WC"
      },
      "source": [
        "kmeans = KMeans(n_clusters = 2, init = 'k-means++', random_state = 42)\n",
        "y_kmeans = kmeans.fit_predict(X_data_array)"
      ],
      "execution_count": 31,
      "outputs": []
    },
    {
      "cell_type": "markdown",
      "metadata": {
        "id": "N5UiOVLrn4ZK"
      },
      "source": [
        "**Labels**"
      ]
    },
    {
      "cell_type": "code",
      "metadata": {
        "colab": {
          "base_uri": "https://localhost:8080/"
        },
        "id": "RKdprQgXm9ST",
        "outputId": "9710e381-557b-450b-8610-9d4798a08237"
      },
      "source": [
        "print(y_kmeans)"
      ],
      "execution_count": 32,
      "outputs": [
        {
          "output_type": "stream",
          "name": "stdout",
          "text": [
            "[1 1 1 ... 1 1 1]\n"
          ]
        }
      ]
    },
    {
      "cell_type": "markdown",
      "metadata": {
        "id": "BUH4BhUtoB3d"
      },
      "source": [
        "**Gaussian Mixture Models**"
      ]
    },
    {
      "cell_type": "code",
      "metadata": {
        "id": "2YCG8T1uA01A"
      },
      "source": [
        "import numpy as np\n",
        "from sklearn.mixture import GaussianMixture"
      ],
      "execution_count": 33,
      "outputs": []
    },
    {
      "cell_type": "code",
      "metadata": {
        "id": "Wb44EsOlBmHK"
      },
      "source": [
        "gm = GaussianMixture(n_components=5, random_state=0).fit(X_data_array)"
      ],
      "execution_count": 34,
      "outputs": []
    },
    {
      "cell_type": "code",
      "metadata": {
        "id": "4TjdJyBNi4ZJ"
      },
      "source": [
        "y_gmm=gm.predict(X_data_array)"
      ],
      "execution_count": 35,
      "outputs": []
    },
    {
      "cell_type": "code",
      "metadata": {
        "id": "YzxyIcf1i4fp",
        "colab": {
          "base_uri": "https://localhost:8080/"
        },
        "outputId": "dd6f8aa2-6cad-4951-f8fe-9e58ed3ce421"
      },
      "source": [
        "y_gmm"
      ],
      "execution_count": 36,
      "outputs": [
        {
          "output_type": "execute_result",
          "data": {
            "text/plain": [
              "array([0, 0, 0, ..., 2, 2, 2])"
            ]
          },
          "metadata": {},
          "execution_count": 36
        }
      ]
    },
    {
      "cell_type": "markdown",
      "metadata": {
        "id": "wE44UVbr-USk"
      },
      "source": [
        "**RCC**"
      ]
    },
    {
      "cell_type": "code",
      "metadata": {
        "id": "1Zd8TOhDya2z",
        "colab": {
          "base_uri": "https://localhost:8080/"
        },
        "outputId": "fa01d0af-2813-48a4-e24a-26ad492703f6"
      },
      "source": [
        "import pyrrcc\n",
        "import numpy as np\n",
        "from sklearn.metrics import adjusted_mutual_info_score\n",
        "\n",
        "clusterer = pyrrcc.RccCluster(k=2,measure='euclidean')\n",
        "\n",
        "P = clusterer.fit(X_data_array)"
      ],
      "execution_count": 37,
      "outputs": [
        {
          "output_type": "stream",
          "name": "stdout",
          "text": [
            "mu = 3.003000532453541, lambda = 996.1071124561994, epsilon = 0.2850489914417267, delta = 0.2850489914417267\n",
            " Iter | Data \t | Smooth \t | Obj \t\n",
            " 1 | 0.0 | 87.5291060025376 | 87.5291060025376\n",
            " 2 | 3.554526466716865 | 0.5409066267879743 | 4.095433093504839\n",
            " 3 | 3.706921947826461 | 0.35055850162765056 | 4.057480449454111\n",
            " 4 | 3.707714512076688 | 0.3496581121394498 | 4.057372624216137\n",
            " 5 | 3.7070447292924076 | 0.349892952914571 | 4.0569376822069785\n",
            " 6 | 3.705316933044345 | 0.35073798732056605 | 4.056054920364911\n",
            " 7 | 3.7018100763894086 | 0.3524260988787108 | 4.0542361752681195\n"
          ]
        }
      ]
    },
    {
      "cell_type": "code",
      "metadata": {
        "id": "GB4xh-baIFJv",
        "colab": {
          "base_uri": "https://localhost:8080/"
        },
        "outputId": "99fcff3b-55ba-4339-f227-0c7720866b3f"
      },
      "source": [
        "P"
      ],
      "execution_count": 38,
      "outputs": [
        {
          "output_type": "execute_result",
          "data": {
            "text/plain": [
              "array([   0,    1,    2, ..., 8085, 8086, 8087], dtype=int32)"
            ]
          },
          "metadata": {},
          "execution_count": 38
        }
      ]
    },
    {
      "cell_type": "code",
      "metadata": {
        "id": "ohH57hfOYj0Y"
      },
      "source": [
        ""
      ],
      "execution_count": 38,
      "outputs": []
    },
    {
      "cell_type": "markdown",
      "metadata": {
        "id": "kpEzzKecozXo"
      },
      "source": [
        "**BIRCH Clustering**"
      ]
    },
    {
      "cell_type": "code",
      "metadata": {
        "id": "BfBerXWFIFfp"
      },
      "source": [
        "#BIRCH"
      ],
      "execution_count": 39,
      "outputs": []
    },
    {
      "cell_type": "code",
      "metadata": {
        "id": "53gC5jQrIg8s"
      },
      "source": [
        "from sklearn.cluster import Birch\n",
        "brc = Birch(n_clusters=5)\n",
        "brc.fit(X_data_array)\n",
        "y_pred=brc.predict(X_data_array)"
      ],
      "execution_count": 40,
      "outputs": []
    },
    {
      "cell_type": "code",
      "metadata": {
        "id": "njGC7o_1I39n",
        "colab": {
          "base_uri": "https://localhost:8080/"
        },
        "outputId": "54dc2722-90a5-48fe-e50a-b9ee6d61f23c"
      },
      "source": [
        "y_pred"
      ],
      "execution_count": 41,
      "outputs": [
        {
          "output_type": "execute_result",
          "data": {
            "text/plain": [
              "array([3, 0, 2, ..., 0, 0, 0])"
            ]
          },
          "metadata": {},
          "execution_count": 41
        }
      ]
    },
    {
      "cell_type": "markdown",
      "metadata": {
        "id": "2_psKZQop5MM"
      },
      "source": [
        "**RCC with DR ( PCA)**"
      ]
    },
    {
      "cell_type": "code",
      "metadata": {
        "id": "i1JcHIqhp9_M",
        "colab": {
          "base_uri": "https://localhost:8080/"
        },
        "outputId": "6d47c5cd-e7eb-47e5-e86e-969f503adfb9"
      },
      "source": [
        "X_data_array"
      ],
      "execution_count": 42,
      "outputs": [
        {
          "output_type": "execute_result",
          "data": {
            "text/plain": [
              "array([[0., 0., 0., ..., 0., 0., 0.],\n",
              "       [0., 0., 0., ..., 0., 0., 0.],\n",
              "       [0., 0., 0., ..., 0., 0., 0.],\n",
              "       ...,\n",
              "       [0., 0., 0., ..., 0., 0., 0.],\n",
              "       [0., 0., 0., ..., 0., 0., 0.],\n",
              "       [0., 0., 0., ..., 0., 0., 0.]])"
            ]
          },
          "metadata": {},
          "execution_count": 42
        }
      ]
    },
    {
      "cell_type": "code",
      "metadata": {
        "id": "Q3Gx6GSxqoA6",
        "colab": {
          "base_uri": "https://localhost:8080/"
        },
        "outputId": "73f63bd5-219f-41a3-d96c-f28c66720de0"
      },
      "source": [
        "X_data_array.shape"
      ],
      "execution_count": 43,
      "outputs": [
        {
          "output_type": "execute_result",
          "data": {
            "text/plain": [
              "(8194, 100)"
            ]
          },
          "metadata": {},
          "execution_count": 43
        }
      ]
    },
    {
      "cell_type": "code",
      "metadata": {
        "id": "lLF4m2K0qUCQ"
      },
      "source": [
        "from sklearn.decomposition import PCA\n",
        "pca = PCA(n_components=10)\n",
        "X_data_array_DR=pca.fit_transform(X_data_array)"
      ],
      "execution_count": 44,
      "outputs": []
    },
    {
      "cell_type": "code",
      "metadata": {
        "id": "ciCmtLsvqu8c",
        "colab": {
          "base_uri": "https://localhost:8080/"
        },
        "outputId": "f62a249f-12e0-46fa-e863-53c3e5aa13b7"
      },
      "source": [
        "X_data_array_DR.shape"
      ],
      "execution_count": 45,
      "outputs": [
        {
          "output_type": "execute_result",
          "data": {
            "text/plain": [
              "(8194, 10)"
            ]
          },
          "metadata": {},
          "execution_count": 45
        }
      ]
    },
    {
      "cell_type": "code",
      "metadata": {
        "id": "1QoOL2Kwqvfm",
        "colab": {
          "base_uri": "https://localhost:8080/"
        },
        "outputId": "36980bec-2564-4488-cb18-394799af58e0"
      },
      "source": [
        "import pyrrcc\n",
        "import numpy as np\n",
        "from sklearn.metrics import adjusted_mutual_info_score\n",
        "\n",
        "clusterer = pyrrcc.RccCluster(measure='cosine')\n",
        "\n",
        "P = clusterer.fit(X_data_array_DR)"
      ],
      "execution_count": 47,
      "outputs": [
        {
          "output_type": "stream",
          "name": "stdout",
          "text": [
            "mu = 0.6488812345964261, lambda = 3.247881947439824, epsilon = 0.33462753891944885, delta = 0.33462753891944885\n",
            " Iter | Data \t | Smooth \t | Obj \t\n",
            " 1 | 0.0 | 0.17464103105492274 | 0.17464103105492274\n",
            " 2 | 0.02386845012508357 | 0.06740245881361918 | 0.09127090893870275\n",
            " 3 | 0.0270969887986148 | 0.0577694022580845 | 0.0848663910566993\n"
          ]
        }
      ]
    },
    {
      "cell_type": "code",
      "metadata": {
        "colab": {
          "base_uri": "https://localhost:8080/"
        },
        "id": "CyfLkvilIzTc",
        "outputId": "9768db40-0d61-4658-8cd5-3c0ec1365180"
      },
      "source": [
        "P"
      ],
      "execution_count": 48,
      "outputs": [
        {
          "output_type": "execute_result",
          "data": {
            "text/plain": [
              "array([   0,    1,    2, ..., 5179, 5179, 5179], dtype=int32)"
            ]
          },
          "metadata": {},
          "execution_count": 48
        }
      ]
    },
    {
      "cell_type": "markdown",
      "metadata": {
        "id": "g2tUBqMi-nlz"
      },
      "source": [
        "**Streamming Data Clustering with Robust Continuous Clustering with DR**"
      ]
    },
    {
      "cell_type": "code",
      "metadata": {
        "id": "vF9QXp-3jsis"
      },
      "source": [
        "streamming_dataset=pd.read_csv('/content/streamming_log.csv')"
      ],
      "execution_count": 52,
      "outputs": []
    },
    {
      "cell_type": "code",
      "metadata": {
        "colab": {
          "base_uri": "https://localhost:8080/"
        },
        "id": "Q3CBtMB7kvuF",
        "outputId": "c8411557-5985-48eb-d8aa-c39d666f9117"
      },
      "source": [
        "streamming_dataset['cleaned_comments'][0:10]"
      ],
      "execution_count": 53,
      "outputs": [
        {
          "output_type": "execute_result",
          "data": {
            "text/plain": [
              "0     mainquorumpeerconfig101 read configur etczook...\n",
              "1         mainquorumpeerconfig334 default major quorum\n",
              "2     maindatadircleanupmanager78 autopurgesnapreta...\n",
              "3     maindatadircleanupmanager79 autopurgepurgeint...\n",
              "4       maindatadircleanupmanager101 purg task schedul\n",
              "5              mainquorumpeermain127 start quorum peer\n",
              "6     mainnioservercnxnfactory94 bind port 00000000...\n",
              "7                   mainquorumpeer913 ticktim set 2000\n",
              "8            mainquorumpeer933 minsessiontimeout set 1\n",
              "9            mainquorumpeer944 maxsessiontimeout set 1\n",
              "Name: cleaned_comments, dtype: object"
            ]
          },
          "metadata": {},
          "execution_count": 53
        }
      ]
    },
    {
      "cell_type": "code",
      "metadata": {
        "id": "hL7vIT2p_1zP"
      },
      "source": [
        "streamming_dataset=streamming_dataset.drop_duplicates()"
      ],
      "execution_count": 54,
      "outputs": []
    },
    {
      "cell_type": "code",
      "metadata": {
        "id": "Xq95Lk91CwlZ",
        "colab": {
          "base_uri": "https://localhost:8080/",
          "height": 419
        },
        "outputId": "93e88422-d5dc-45e4-9c77-1550ed90a305"
      },
      "source": [
        "streamming_dataset"
      ],
      "execution_count": 55,
      "outputs": [
        {
          "output_type": "execute_result",
          "data": {
            "text/html": [
              "<div>\n",
              "<style scoped>\n",
              "    .dataframe tbody tr th:only-of-type {\n",
              "        vertical-align: middle;\n",
              "    }\n",
              "\n",
              "    .dataframe tbody tr th {\n",
              "        vertical-align: top;\n",
              "    }\n",
              "\n",
              "    .dataframe thead th {\n",
              "        text-align: right;\n",
              "    }\n",
              "</style>\n",
              "<table border=\"1\" class=\"dataframe\">\n",
              "  <thead>\n",
              "    <tr style=\"text-align: right;\">\n",
              "      <th></th>\n",
              "      <th>Unnamed: 0</th>\n",
              "      <th>cleaned_comments</th>\n",
              "    </tr>\n",
              "  </thead>\n",
              "  <tbody>\n",
              "    <tr>\n",
              "      <th>0</th>\n",
              "      <td>0</td>\n",
              "      <td>mainquorumpeerconfig101 read configur etczook...</td>\n",
              "    </tr>\n",
              "    <tr>\n",
              "      <th>1</th>\n",
              "      <td>1</td>\n",
              "      <td>mainquorumpeerconfig334 default major quorum</td>\n",
              "    </tr>\n",
              "    <tr>\n",
              "      <th>2</th>\n",
              "      <td>2</td>\n",
              "      <td>maindatadircleanupmanager78 autopurgesnapreta...</td>\n",
              "    </tr>\n",
              "    <tr>\n",
              "      <th>3</th>\n",
              "      <td>3</td>\n",
              "      <td>maindatadircleanupmanager79 autopurgepurgeint...</td>\n",
              "    </tr>\n",
              "    <tr>\n",
              "      <th>4</th>\n",
              "      <td>4</td>\n",
              "      <td>maindatadircleanupmanager101 purg task schedul</td>\n",
              "    </tr>\n",
              "    <tr>\n",
              "      <th>...</th>\n",
              "      <td>...</td>\n",
              "      <td>...</td>\n",
              "    </tr>\n",
              "    <tr>\n",
              "      <th>8189</th>\n",
              "      <td>24985</td>\n",
              "      <td>quorumpeermyid1000000002181fastleaderelection...</td>\n",
              "    </tr>\n",
              "    <tr>\n",
              "      <th>8190</th>\n",
              "      <td>24988</td>\n",
              "      <td>quorumpeermyid1000000002181fastleaderelection...</td>\n",
              "    </tr>\n",
              "    <tr>\n",
              "      <th>8191</th>\n",
              "      <td>24991</td>\n",
              "      <td>quorumpeermyid1000000002181fastleaderelection...</td>\n",
              "    </tr>\n",
              "    <tr>\n",
              "      <th>8192</th>\n",
              "      <td>24994</td>\n",
              "      <td>quorumpeermyid1000000002181fastleaderelection...</td>\n",
              "    </tr>\n",
              "    <tr>\n",
              "      <th>8193</th>\n",
              "      <td>24997</td>\n",
              "      <td>quorumpeermyid1000000002181fastleaderelection...</td>\n",
              "    </tr>\n",
              "  </tbody>\n",
              "</table>\n",
              "<p>8194 rows × 2 columns</p>\n",
              "</div>"
            ],
            "text/plain": [
              "      Unnamed: 0                                   cleaned_comments\n",
              "0              0   mainquorumpeerconfig101 read configur etczook...\n",
              "1              1       mainquorumpeerconfig334 default major quorum\n",
              "2              2   maindatadircleanupmanager78 autopurgesnapreta...\n",
              "3              3   maindatadircleanupmanager79 autopurgepurgeint...\n",
              "4              4     maindatadircleanupmanager101 purg task schedul\n",
              "...          ...                                                ...\n",
              "8189       24985   quorumpeermyid1000000002181fastleaderelection...\n",
              "8190       24988   quorumpeermyid1000000002181fastleaderelection...\n",
              "8191       24991   quorumpeermyid1000000002181fastleaderelection...\n",
              "8192       24994   quorumpeermyid1000000002181fastleaderelection...\n",
              "8193       24997   quorumpeermyid1000000002181fastleaderelection...\n",
              "\n",
              "[8194 rows x 2 columns]"
            ]
          },
          "metadata": {},
          "execution_count": 55
        }
      ]
    },
    {
      "cell_type": "code",
      "metadata": {
        "id": "Tf-lHGdVY8U5"
      },
      "source": [
        "from sklearn.feature_extraction.text import TfidfVectorizer\n",
        "vectorizer = TfidfVectorizer(max_features=50,ngram_range=(2,3))\n",
        "import pyrrcc\n",
        "from sklearn.manifold import TSNE\n",
        "import numpy as np\n",
        "from sklearn.metrics import adjusted_mutual_info_score\n"
      ],
      "execution_count": 61,
      "outputs": []
    },
    {
      "cell_type": "code",
      "metadata": {
        "id": "gZ1h0zT-kFnM"
      },
      "source": [
        "def streamming_rcc(streamming_log_batch,vectorizer):\n",
        "  print(current_batch_log)\n",
        "  log_vectorized= vectorizer.fit_transform(current_batch_log.ravel())\n",
        "  vectorized_log_array=log_vectorized.toarray()\n",
        "  X_embedded = TSNE(n_components=2).fit_transform(vectorized_log_array)\n",
        "  clusterer = pyrrcc.RccCluster(k=5,measure='euclidean')\n",
        "  current_stream_label = clusterer.fit(X_embedded)\n",
        "  print(current_stream_label)"
      ],
      "execution_count": 62,
      "outputs": []
    },
    {
      "cell_type": "code",
      "metadata": {
        "colab": {
          "base_uri": "https://localhost:8080/"
        },
        "id": "LMZeTt7amMEf",
        "outputId": "dd8dd2fa-5420-44ba-c755-bd0518d322f7"
      },
      "source": [
        "i,j=0,1000\n",
        "for k in range(len(streamming_dataset['cleaned_comments'])):\n",
        "  if i<len(streamming_dataset['cleaned_comments']):\n",
        "     current_batch_log=streamming_dataset['cleaned_comments'][i:j]\n",
        "     streamming_rcc(current_batch_log,vectorizer)\n",
        "     j=j+1000\n",
        "     i=i+1000"
      ],
      "execution_count": 64,
      "outputs": [
        {
          "output_type": "stream",
          "name": "stdout",
          "text": [
            "0       mainquorumpeerconfig101 read configur etczook...\n",
            "1           mainquorumpeerconfig334 default major quorum\n",
            "2       maindatadircleanupmanager78 autopurgesnapreta...\n",
            "3       maindatadircleanupmanager79 autopurgepurgeint...\n",
            "4         maindatadircleanupmanager101 purg task schedul\n",
            "                             ...                        \n",
            "995     101034113888quorumcnxmanagerlistener493 recei...\n",
            "996     101034113888quorumcnxmanagerlistener493 recei...\n",
            "997     101034113888quorumcnxmanagerlistener493 recei...\n",
            "998     101034113888quorumcnxmanagerlistener493 recei...\n",
            "999     101034113888quorumcnxmanagerlistener493 recei...\n",
            "Name: cleaned_comments, Length: 1000, dtype: object\n",
            "mu = 0.30424078142913213, lambda = 12.517214298942196, epsilon = 0.01454212423413992, delta = 0.01454212423413992\n",
            " Iter | Data \t | Smooth \t | Obj \t\n",
            " 1 | 0.0 | 96.58938362735283 | 96.58938362735283\n",
            " 2 | 8.415861834338278 | 27.958278951907523 | 36.3741407862458\n",
            " 3 | 9.233234106839456 | 26.88423623777851 | 36.11747034461796\n",
            " 4 | 9.266917267316938 | 26.839541518002047 | 36.106458785318985\n",
            " 5 | 9.26797773567278 | 25.517424521420985 | 34.785402257093764\n",
            " 6 | 8.664804668211199 | 25.876164368174397 | 34.5409690363856\n",
            " 7 | 8.56190646114525 | 25.8832191661826 | 34.44512562732785\n",
            " 8 | 8.536787811277808 | 22.99002407704489 | 31.526811888322698\n",
            " 9 | 7.683948839061174 | 22.95128636584832 | 30.635235204909492\n",
            " 10 | 7.594649994038931 | 22.534674696493706 | 30.129324690532638\n",
            " 11 | 7.6458904100207175 | 22.14845759774831 | 29.794348007769024\n",
            " 12 | 7.7365982099726 | 17.080965084371876 | 24.817563294344474\n",
            " 13 | 7.000753983952342 | 16.830996396863473 | 23.831750380815816\n",
            " 14 | 6.805485062347389 | 16.500187132757627 | 23.305672195105018\n",
            " 15 | 6.712311196354146 | 16.1893760521784 | 22.901687248532546\n",
            " 16 | 6.720776148499254 | 10.935059256571833 | 17.655835405071088\n",
            " 17 | 6.198149186142101 | 10.830394367810934 | 17.028543553953035\n",
            " 18 | 5.990601182298896 | 10.711105242506658 | 16.701706424805554\n",
            " 19 | 5.862526683660519 | 10.55421305720239 | 16.41673974086291\n",
            " 20 | 5.807443442311124 | 6.604518509809213 | 12.411961952120336\n",
            " 21 | 5.427878832337823 | 6.590864327192871 | 12.018743159530693\n",
            " 22 | 5.2210448329308505 | 6.529717248013036 | 11.750762080943886\n",
            " 23 | 5.084464042091765 | 6.486063279569825 | 11.57052732166159\n",
            " 24 | 4.994041320818454 | 5.290933334384866 | 10.284974655203321\n",
            " 25 | 4.849264587590575 | 5.3309458602850714 | 10.180210447875647\n",
            " 26 | 4.7305320681566245 | 5.375848078830411 | 10.106380146987036\n",
            "[  0   0   0   0   0   0   0   0   0   0   0   0   0   0   0   0   1   2\n",
            "   2   2   2   2   2   2   3   1   1   0   0   4   4   4   4   4   4   4\n",
            "   4   4   4   4   4   4   4   4   0   0   0   0   0   3   1   1   1   1\n",
            "   1   1   1   1   1   1   1   3   3   3   3   3   3   3   3   3   3   3\n",
            "   3   3   3   3   3   3   3   3   3   3   3   3   3   3   3   3   3   3\n",
            "   3   3   3   3   3   3   3   3   3   3   3   3   3   3   3   3   3   3\n",
            "   3   3   3   3   3   3   3   3   3   3   3   3   3   3   3   3   3   3\n",
            "   3   3   3   3   3   3   3   3   3   3   3   3   3   3   3   3   3   5\n",
            "   3   6   6   7   8   9   5  10  10   6  11  12  13  14  15   9  16  14\n",
            "  17  18  19  16  10  10  20  13  21  22  23  24  21  25  26  27  28  29\n",
            "  30  31  32  33  34  35  35  36  37  38  39  40  23  41  24  42  11  43\n",
            "  44  45  46  47  48  21   3   6  13  19  18   6  29  15  13  49   9  10\n",
            "  14  50  34  12  16  51  10  13  14  52  53  54  16   6   9  55  56  10\n",
            "  54  54  39  57  35  58  24  59  36  60  61  62  63  21  64  39  37  21\n",
            "  65  66  55  67  56  65  68  36  69   3   3  70  71  72  73  61  74  75\n",
            "  76  77  75  65  28  44  57  39  78  79  31  61  39  29  61  35  80  81\n",
            "  82  83  84  68  45  85  56  86  59  83  87  88  89  84  70  90  91  85\n",
            "  64  90  39  68  68  45  21  30  92  74  56  93  55  94  95  96  97  57\n",
            "  89  78  98  60  99  85  75  50  59 100 101  92 102 103  75 104 105 106\n",
            " 107  92 108  74 109  95  76  81  68 110 111  38  62  61 112  81  29  83\n",
            " 113  40  68 114 115  87 116  67  92  96 117  95 118  98  44 115  82  43\n",
            "  29  36  44  61  63 119 120  35  69  79 121  19  19  50 122 121 121  12\n",
            " 123 124 121 124 124 125  50 122 121 125 126 121 127 124 121 122 128 123\n",
            " 125  42  31 129  65  69  93  71  74  71  21  98  30  87  42  64  92 106\n",
            "  86  68  87  31  86  71  29 130  81 131  68 132  39 128 133  26  46 127\n",
            "  19   8 131 122   8   8 121 121 121  87 122 134  87 125 135 122 136 137\n",
            "  50 123 123 123 121 125  41 121 138  23 121 121 121 106 103 139  69  39\n",
            "  83  29 100 116 129  35 140  61  80 107 115 116  76 106  80 141  99 106\n",
            "  26  29 142 124 143  26 144   3   3  93  68  63 101 145  84  39  29  39\n",
            " 131  41  35 131  99 102  64 112  95  71 146  48 108 109 140 105 145  61\n",
            " 120 119  95 132  63  64  47  63 108  55  32  69  96  92  90 108  99  84\n",
            "  29 108 112  91  40 107  78  59 147  46 129 148  78 149 111  83  83  55\n",
            "  35  39  59 108  27  58  35  42  98 119 116  84  39 150  35  72 151  66\n",
            " 151  83 104  29 152  78  41  76 153 154  39  98  28  93  93  72  23  40\n",
            "  44  28 155 104  99  74  38  46 156  21  56 131  43  84 152  23  39  81\n",
            "  11 111  65  87 108  23  80 147  36 112 157  28 141  71  47  71 100  90\n",
            " 146 158  55  38  38  60  30  55  64  92  71 113 110  76  86 131  36  24\n",
            "  80  70  43  66  64  25  76 130 159  92 146  81  35 109 145  40  28  66\n",
            "  39  57  25 160  39  29  74  35 113 141  39  44  39  80  27  66 161  71\n",
            "  40 162 141 163 164 164  64 112  39  48  32  67 106  83  60 132  56  29\n",
            "  23  84  28 146  91  44  57  78  57 104  64 109  88  95 109  84 107  34\n",
            " 165 157  41  59  94 116  25  66 149  64  68 101 166  79 151  24  64  94\n",
            " 152  74  29 146 107  67  36  55  39  11  81  87  55  46 167  95 152  65\n",
            "  91  55  64  61  37 141 144  58 111 140 108  82 168  48  21  79  90 101\n",
            "  42 106  11 130  87 169  39 115 111 104  28  57 157  44 170 104 129  97\n",
            "  34 171  36 111 172  91  94 119  23  24  34  94  35  90  48  73 120 113\n",
            "  65  67  74 119  24  35  47  31  79  90  65  44  83 159  97  36  84  55\n",
            "  29 115  68  55 101  46 162  26 172 173 151 119 155  23  82  99 147 113\n",
            "  83 145  40  79  30 101  84 106  39  71  91 158  38  39  39  39  71  29\n",
            " 174 152  96  30  21 175 176  12 176 177 178 176  14 176  51  18 178  54\n",
            " 176 178  18 176  53  50  10   9 179  13 178  12  12  51   6  84  42 134\n",
            "  39  44 104  67  91  28  29  35  82  96  61 152  38  98  11 148  87  34\n",
            "  88  94 119  75  35  77  48  77 104 155  64  43  39  15  70  97  27  55\n",
            "  36  82 140  64 162  29  90 111  87  26  68  32  88  18 177 111  39  18\n",
            " 178  15  50 146 152 100  54  12 176  92  97  25  80 133  55  23  38 180\n",
            "  41  26  64  96  31 112  26  15   3   3]\n",
            "1000     101034113888quorumcnxmanagerlistener493 recei...\n",
            "1001     101034113888quorumcnxmanagerlistener493 recei...\n",
            "1002     101034113888quorumcnxmanagerlistener493 recei...\n",
            "1003     101034113888quorumcnxmanagerlistener493 recei...\n",
            "1004     101034113888quorumcnxmanagerlistener493 recei...\n",
            "                              ...                        \n",
            "1995     101034113888quorumcnxmanagerlistener493 recei...\n",
            "1996     101034113888quorumcnxmanagerlistener493 recei...\n",
            "1997     101034113888quorumcnxmanagerlistener493 recei...\n",
            "1998     101034113888quorumcnxmanagerlistener493 recei...\n",
            "1999     101034113888quorumcnxmanagerlistener493 recei...\n",
            "Name: cleaned_comments, Length: 1000, dtype: object\n",
            "mu = 0.6305274572541748, lambda = 6.266335917728389, epsilon = 0.01450461708009243, delta = 0.01450461708009243\n",
            " Iter | Data \t | Smooth \t | Obj \t\n",
            " 1 | 0.0 | 15.687092651866589 | 15.687092651866589\n",
            " 2 | 1.5368190359734157 | 4.298006524083163 | 5.834825560056578\n",
            " 3 | 1.6203598755711495 | 4.194526342775409 | 5.814886218346558\n",
            " 4 | 1.623384700402711 | 4.129220910542139 | 5.752605610944849\n",
            " 5 | 1.5939256599376286 | 4.031269550625688 | 5.625195210563317\n",
            " 6 | 1.5380012054624035 | 4.070445873863307 | 5.60844707932571\n",
            " 7 | 1.53222230303605 | 3.8211819223885657 | 5.353404225424615\n",
            " 8 | 1.4483092777713718 | 3.850711385931753 | 5.299020663703125\n",
            " 9 | 1.4403430415580658 | 3.390558031261062 | 4.8309010728191275\n",
            " 10 | 1.3193672142577562 | 3.393649109160641 | 4.7130163234183975\n",
            " 11 | 1.2904982206693414 | 3.366875242556816 | 4.657373463226158\n",
            " 12 | 1.277095474755494 | 2.6398444060796917 | 3.9169398808351854\n",
            " 13 | 1.1253446116097654 | 2.586681849474711 | 3.712026461084476\n",
            " 14 | 1.0886282728820234 | 2.52434318470525 | 3.612971457587274\n",
            " 15 | 1.0899085731888811 | 1.7541925059613508 | 2.844101079150232\n",
            " 16 | 1.0104634345740102 | 1.7305434812890137 | 2.741006915863024\n",
            " 17 | 0.9837401406511925 | 1.7091239402283431 | 2.6928640808795357\n",
            "[  0   1   2   2   2   2   1   0   2   0   0   2   3   4   5   2   2   2\n",
            "   2   2   2   2   2   6   5   5   7   0   0   0   0   8   0   0   0   5\n",
            "   5   5   5   0   0   8   0   0   8   8   0   5   5   2   8   0   8   0\n",
            "   8   0   1   1   2   2   1   0   2   2   2   2   9  10   9  10   9  10\n",
            "  10  10   9  10  10  10  10  10  10   9  10  10   9  10  10  10  10   2\n",
            "  11   1   1   2   2   1   2   2   1  12  12  12  12  12  13  14  15  16\n",
            "  17  18  19  20  21  22  23  24  25  26  27  28   2   2  29  30  31  31\n",
            "  32  31  29  31  33  34  35  31  36  37  37  32  37  38  37  39  32  40\n",
            "  41  32  42  34  32  42  43  44  45  46  47  48  49  50  51  47  52  53\n",
            "  54  54  55  56  57  58  59  60  51  61  62  63  64  52  48  65  66  67\n",
            "  68  69  70  30  41  31  30  29  37  32  37  32  71  34  35  32  37  31\n",
            "  41  31  71  35  72  39  37  34  42  30  31  32  41  42  31  31  37  41\n",
            "  29  35  31  31  42  31   4  39   4  31  31  40  39  40  31  37  34  32\n",
            "  40  42  31  36  72  40  32  35  32  39   4  71   2   2  54  73  74  75\n",
            "  54  68  76  43  77  78  79  63  78  80  81  82  52  55  78  57  54  54\n",
            "  83  84  60  51  49  45  85  54  86  51  87  67  88  61  44  89  47  90\n",
            "  47  91  92  93  48  94  95  96  56  97  46  90  68  87  51  98  55  82\n",
            "  99 100 101 102  56 101  67  69 103 104 105 106 107  78  83 108 109 110\n",
            "  76 111  61 112 111  67 100 113 114  54  68  78  57 115  60 116  74 117\n",
            "  68 102  50 118  96  94 119 120  52 111 121 122 123  73  70  94  85  56\n",
            "  44 124 104 125 126  52  96 127 128 129  54 128  75 130 131 132 130 132\n",
            " 133 134 130 130 135 132 131 132 133 130 134 131 133 133 130 131 133 132\n",
            " 132 130 133 132 130 131 133 136 133 137 138 138 138   3 139 138 138 140\n",
            " 141 142 143 144 145 146 147 148 149 139 148 147 150 148 139 151 152 139\n",
            " 153   3 133 154 155 154 156 156 155 157 155 156 158 159 160 158 157 155\n",
            " 155 158 161 154 154 156 155 162 158 154 156 163 156 159 154 160 164 157\n",
            " 139 165 166 167 168 147 169 147 170 171 172 147 173 148 174 175 176 177\n",
            " 178 179 148 180 181 182 183 184 185 186 187   2   2  64 188  46 105  49\n",
            " 106  61  56 189  84  57  70  62  94  88  49 102  67  62 119  47  76  49\n",
            "  85 190 108  94  68  99 110  86 118 128  50 129  60  78  52 127  64  83\n",
            " 191 116 126  52 192  52 191  87  49 193 194  68 195  99  49  87  84  88\n",
            "  87  78  94  54 196 108 100  96 197  68 115 129 129  93  62 117  91  51\n",
            "  51 110  74  94  46 103  61  80 198  52 108 199  47  54  79 106 105 108\n",
            "  78  52 197 200 100 104  79  48  50  68  87  52 109  74  52  54 106 201\n",
            " 202 124 104  46  54 203 100  51 204  44 117 116 204  90  51  54  48 110\n",
            "  94  78  76  64 205 100 206 119 197 207  49 208 193 119 209  63 105  94\n",
            "  52 100 210 108 211  90 110 189  87  94  57 212 207  94  78  87  87  78\n",
            " 105  82  64  48  57  51  54  94  86  87 213 214 215 110  90  80  95  62\n",
            "  60 207  98 119 194 110 194 216 217  60 119 209  82  64  49  52  61  44\n",
            " 218 117 216  63  60  45 219  74  55 108  97 191  44  49  51 111 207  49\n",
            "  54  94  68  49  50 217 220 103  68  78 108 107  51  78  73 119  80 124\n",
            "  54  70 103 219 126  82 189 111  75 111 193 110  51 126 221 191  69 222\n",
            " 110  83 103 119 207  82  57  57  62  64  91  87  51 104 100  74 103  83\n",
            "  69  67  55  83  69  87 194 119 223 194  54  52  69  45   2  57  68  54\n",
            "  67  87 108  52  60  78  73  94 124 224  87  54 225 108 204  82  87 102\n",
            " 226  80 227  48  90  99  87 129 225  46  53  49 228  96  68 129 126 229\n",
            "  97  80 219  69 119  54 230 120  73  92  82  50 104 231  87  97 189 232\n",
            " 100 104  74  68 111  70 230  82 223  87 233 234  62  79  73  49 110  43\n",
            "  50  51 225 189  68  54  69 106  67 235 236 237 237 237 238 239 240 240\n",
            " 237 237 241 242 243 244 245 246 240 240 240 247 248 249 250 251 252 253\n",
            " 254 255 256 257 258 259 240 260 261 262 263 264 265 266 267 268 269 270\n",
            " 271 272 273 274 275 276 277 278 279 280 240 240 281 282 283 283 284 285\n",
            " 286 287 288 289 289 290 289 291 292 293 294 295 296 297 298 289 290 290\n",
            " 290 299 300 301 302 303 304 305 306 290 307 308 309 310 311 312 313 314\n",
            " 315 316 317 318 319 320 321 322 323 324 325 326 327 328 329 330 331 332\n",
            " 333 334 335 336 337 338 339 339 340   2]\n",
            "2000     101034113888quorumcnxmanagerlistener493 recei...\n",
            "2001     101034113888quorumcnxmanagerlistener493 recei...\n",
            "2002     101034113888quorumcnxmanagerlistener493 recei...\n",
            "2003     101034113888quorumcnxmanagerlistener493 recei...\n",
            "2004     101034113888quorumcnxmanagerlistener493 recei...\n",
            "                              ...                        \n",
            "2995     101034113888quorumcnxmanagerlistener493 recei...\n",
            "2996     101034113888quorumcnxmanagerlistener493 recei...\n",
            "2997     101034113888quorumcnxmanagerlistener493 recei...\n",
            "2998     101034113888quorumcnxmanagerlistener493 recei...\n",
            "2999     101034113888quorumcnxmanagerlistener493 recei...\n",
            "Name: cleaned_comments, Length: 1000, dtype: object\n",
            "mu = 1.6151991386324767, lambda = 5.465047623716932, epsilon = 0.014321909286081791, delta = 0.014321909286081791\n",
            " Iter | Data \t | Smooth \t | Obj \t\n",
            " 1 | 0.0 | 14.825289297321078 | 14.825289297321078\n",
            " 2 | 1.5143166058556243 | 3.4787806554916156 | 4.9930972613472395\n",
            " 3 | 1.5908090980506424 | 3.3805800154466312 | 4.971389113497274\n",
            " 4 | 1.5931167636518602 | 3.361093848718761 | 4.9542106123706215\n",
            " 5 | 1.5819896116624315 | 3.3376028139074725 | 4.919592425569904\n",
            " 6 | 1.5595916870931519 | 3.2899522654673 | 4.8495439525604525\n",
            " 7 | 1.515549311541016 | 3.1911070526333325 | 4.706656364174348\n",
            " 8 | 1.4313591383781303 | 3.247752014725943 | 4.679111153104073\n",
            " 9 | 1.409215072818157 | 2.9758367018627716 | 4.385051774680928\n",
            " 10 | 1.2697799395798774 | 3.009120293879917 | 4.278900233459795\n",
            " 11 | 1.1977080857742992 | 3.009020090315297 | 4.206728176089596\n",
            " 12 | 1.1304814545962323 | 2.43842437618548 | 3.5689058307817123\n",
            " 13 | 1.0157278389119027 | 2.386007348086195 | 3.401735186998098\n",
            " 14 | 1.0154732014997425 | 2.3504302892148536 | 3.3659034907145964\n",
            " 15 | 1.02274097482274 | 1.7488555584024084 | 2.771596533225148\n",
            " 16 | 0.9573252358966128 | 1.7442919389947094 | 2.701617174891322\n",
            "[  0   0   0   1   1   1   1   1   1   1   1   1   1   1   1   1   1   1\n",
            "   1   1   1   1   1   1   1   1   0   0   0   2   0   3   3   3   0   3\n",
            "   0   4   3   5   6   7   8   0   9   4   0   0   0   3   0   8  10   8\n",
            "   8   0   9   2   3   0   4   4   0  11  11  11  11   3   9   4   4   4\n",
            "   3   3   0  11   4   4   0   3   0   3   0   2   9   9   3   9   3   2\n",
            "  12   0   2   4   4   0   2   2   4  13  13  13  13  13  14  15  16  17\n",
            "  18  19  20  21  22  23  24  25  26  27  28  29   9   3  30  31  32  33\n",
            "  34  34  34  35  34  36  37  38  39  36  34  40  36  41  42  31  43  44\n",
            "  38  30  45  34  38  46  47  48  49  50  51  52  53  54  55  49  49  56\n",
            "  57  58  59  59  60  60  61  62  63  64  65  66  67  68  69  70  71  72\n",
            "  63  63  73  35  74  33  42  42  75  76  36  77  38  31  30  34  78   6\n",
            "  34  30  34  79  34  79  80  81  34   6  30  34  82  33  33  31  46  34\n",
            "  82  83  36  34  84  31  44  44  85  40  38  86  42  80  77  30  42  33\n",
            "  79  40  81  77  33  42  42  34  34  38  34  33   0   3  87  88  89  52\n",
            "  90  91  92  93  94  68  72  95  47  71  96  97  59  98  99  53 100 101\n",
            " 102  61  54 103  73 104 105 106 107  60  71 108  66 109 110 111 112  63\n",
            " 113 114  47 115 116 117 118  61 119 120 121 122 123 124 114 125  91 126\n",
            "  60  64 127 128 129 130  63 131  88 132 133 123 129 116 120 134  63 135\n",
            " 136 137 138 124 139 140  53 130 125  65 141 142 143  49 144 145 146 103\n",
            " 137 117 144 147  63 103 148 126 121 137 121 149 150  54 123 118  63  71\n",
            " 127 151 145 152  91 153  70 150 102 154 106  96 155 156 157 158 159 160\n",
            " 160 158 158 161 159 158 158 160 162 163 160 164 162 165 162 166 167 168\n",
            " 169 162 170 161 160 171 172 173 173 121 174 175 133  49  63 150 176 118\n",
            "  95  63 172 177  64 178 179 180 129 126 178  89 119  91 123 104 116 181\n",
            " 138  53 182 183 184 185 186 187 188 189 162 190 191 192 193 194 195   5\n",
            " 196 197 198 199 200 201 202 203 204 205 206 207 208 209 210 211 212 213\n",
            " 214 215 216 217 218 219 220 221 222 223 224 225 226 227 228 229 230 231\n",
            " 232 233 234 235 236 237 238 239 240 241 242   0   0 243 174 244 245 152\n",
            " 145 142 246 247 148 125 141 248 118  56 155  49  63  68  93  68 114  70\n",
            " 123  95  65 144  56  52 122  61 249 143 250 125 126 251  62 252 150  72\n",
            "  88 253  60 254 255 180  51 256  63 139  47 257 148 258 259  63 260 261\n",
            "  93  56 137 139 125  61  54 107 172 138  71 133  63 120 262  73 138  63\n",
            " 127 263 176 155 264 176  72 265 266  71  73 267 152 268 266 178 116 269\n",
            "  63 270 127 126  71 271  70  58 256  54 103 181 256 111  61 106  98 106\n",
            "  61 259 272 273 121 274 244  52 132  95 259 244  89  52  65  90 251 255\n",
            " 124 130 104 176 275 276  67 277 278  52 259 148 130 121  53 279  63  67\n",
            "  97  62 104  60  63  68  92 124 266 102 279 103 107 127 155 144  60 280\n",
            " 273 281  53  67 259 282  91  68 244 177 176 119 266 176 113  95 102 177\n",
            " 283 284 181 244 102  96 174 172  53  56  53 285  88 177  63 155 286 181\n",
            "  88 287 288 127 174 125 289 124 133 117  96  61  65  67 290 291 111 292\n",
            " 293 125  63 119 154 102 294 295 103 118 296  68 181 139 297 298 251 111\n",
            " 280 299  63 300 301 129 174 302 297 102 303 117  91 130 132 304  90 276\n",
            " 137 146 146 129 305  61 104 117 177 279 178 127 145 306 124 139 307  72\n",
            " 279 174 308 181 137 106 125  96 309 310 132 311 102 118 130 128 244 276\n",
            " 300 312 129 313  96 181 269  54  62  49 146 283 314  52 102 315  95  72\n",
            " 142 276 307  88 279  96  89 251 173 111 154 176 119  68 316 251 148 317\n",
            " 279  93 119 318 319 126 127  64 100 289 137 137 302 259  71 124  67 100\n",
            " 121  73 173 144 320 116 321  63 322 318  98 177  92 146 111  89  71 323\n",
            " 177 146  58 106  61 116 132 127  72 181 324 325 325 325 325 325 326 327\n",
            " 328 329 330 331 332 333 334 335 336 337 338 339 340 341 342 343 344 345\n",
            " 346 347 348 349 350 351 352 353 354 355 356 357 358 359 350 359 359 360\n",
            " 361 362 363 364 365 366 367 368 359 359 360 369 360 370 371 372 373 374\n",
            " 375 376 377 378 379 379 380 380 381 382 383 384 385 386 387 388 380 380\n",
            " 380 379 379 389 390 391 392 393 394 395 396 379 397 398 399 400 401 402\n",
            " 403 404 405 406 407 408 409 410 411 412 413 414 415 416 417 418 419 420\n",
            " 421 422 423 424 425 426 427 427 348   0]\n",
            "3000     101034113888quorumcnxmanagerlistener493 recei...\n",
            "3001     101034113888quorumcnxmanagerlistener493 recei...\n",
            "3002     101034113888quorumcnxmanagerlistener493 recei...\n",
            "3003     101034113888quorumcnxmanagerlistener493 recei...\n",
            "3004     101034113888quorumcnxmanagerlistener493 recei...\n",
            "                              ...                        \n",
            "3995     nioservercxnfactory000000002181zookeeperserve...\n",
            "3996     commitprocessor1zookeeperserver595 establish ...\n",
            "3997     nioservercxnfactory000000002181nioservercnxn1...\n",
            "3998     nioservercxnfactory000000002181nioservercnxn1...\n",
            "3999     nioservercxnfactory000000002181nioservercnxn1...\n",
            "Name: cleaned_comments, Length: 1000, dtype: object\n",
            "mu = 4.98080881067078, lambda = 64.45333669350876, epsilon = 0.015183343552052975, delta = 0.015183343552052975\n",
            " Iter | Data \t | Smooth \t | Obj \t\n",
            " 1 | 0.0 | 2606.3153759056186 | 2606.3153759056186\n",
            " 2 | 287.7279307585633 | 272.4378781295392 | 560.1658088881024\n",
            " 3 | 299.3089266324257 | 260.3023409409624 | 559.6112675733881\n",
            " 4 | 299.42482281459417 | 260.186356796291 | 559.6111796108852\n",
            " 5 | 299.426218345133 | 258.45688848963414 | 557.8831068347672\n",
            " 6 | 296.30660034235353 | 261.5412166294541 | 557.8478169718076\n",
            " 7 | 296.1880690685013 | 258.16401002797414 | 554.3520790964754\n",
            " 8 | 289.97414140506197 | 264.2274423322437 | 554.2015837373057\n",
            " 9 | 289.49684842594115 | 264.70178907448417 | 554.1986375004253\n",
            " 10 | 289.4391810447528 | 257.5833985172749 | 547.0225795620277\n",
            " 11 | 277.14775216868225 | 269.1987700025406 | 546.3465221712229\n",
            " 12 | 275.2262194136274 | 271.06065462180095 | 546.2868740354284\n",
            " 13 | 274.7282955759094 | 256.2230015269928 | 530.9512971029021\n",
            " 14 | 250.62130010343378 | 276.89128277579505 | 527.5125828792288\n",
            " 15 | 242.95012890675955 | 283.1743068249104 | 526.1244357316699\n",
            " 16 | 238.65064937648197 | 286.41734523465817 | 525.0679946111402\n",
            " 17 | 235.3551397274199 | 250.1853053280874 | 485.5404450555073\n",
            " 18 | 191.08963405866305 | 273.69793414260687 | 464.7875682012699\n",
            " 19 | 168.95269450963943 | 272.8404485931253 | 441.7931431027647\n",
            " 20 | 154.1672405230492 | 260.3000336563194 | 414.4672741793686\n",
            " 21 | 146.37011741415944 | 166.29878787855247 | 312.6689052927119\n",
            " 22 | 126.09923562973854 | 143.93517523498176 | 270.0344108647203\n",
            " 23 | 122.79977719603878 | 122.38251700015884 | 245.18229419619763\n",
            " 24 | 123.07417526709027 | 107.57363793114132 | 230.64781319823157\n",
            " 25 | 124.26270547996924 | 62.15237945061433 | 186.4150849305836\n",
            " 26 | 119.68777561381773 | 63.874370975639 | 183.56214658945675\n",
            " 27 | 116.43866472134454 | 65.4392859205002 | 181.87795064184473\n",
            " 28 | 111.27791848544899 | 66.38552315121677 | 177.66344163666577\n",
            " 29 | 106.29714372419927 | 41.07894772198766 | 147.37609144618693\n",
            " 30 | 99.13928572435267 | 42.74160986228888 | 141.88089558664154\n",
            " 31 | 91.46663086088911 | 42.34263334892843 | 133.80926420981754\n",
            " 32 | 86.89534264788918 | 40.47950621959379 | 127.37484886748297\n",
            " 33 | 85.73678518680654 | 23.839718295701676 | 109.57650348250822\n",
            " 34 | 82.38936775467792 | 25.017220138307607 | 107.40658789298553\n",
            " 35 | 80.88995977613021 | 26.010203002608165 | 106.90016277873838\n",
            " 36 | 79.0027581523339 | 27.190359322047524 | 106.19311747438142\n",
            " 37 | 75.82866672582824 | 24.104567320431197 | 99.93323404625944\n",
            " 38 | 68.30538614492392 | 26.261586748799306 | 94.56697289372322\n",
            " 39 | 57.98709577636989 | 26.131217950457472 | 84.11831372682737\n",
            " 40 | 52.86140888493188 | 25.039986797521355 | 77.90139568245324\n",
            " 41 | 50.76733470851228 | 24.685045059411507 | 75.45237976792379\n",
            " 42 | 49.653174286763274 | 24.40829935529336 | 74.06147364205663\n",
            " 43 | 49.41266070295596 | 24.395599978583274 | 73.80826068153924\n",
            " 44 | 48.67153006219657 | 24.442300874494897 | 73.11383093669147\n",
            " 45 | 46.66015254722325 | 24.311436090505495 | 70.97158863772874\n",
            " 46 | 46.26275934424554 | 24.23602426426094 | 70.49878360850647\n",
            " 47 | 46.26290513135571 | 24.23559578854507 | 70.49850091990078\n",
            "[  0   1   2   2   3   2   4   5   6   6   6   6   2   7   8   1   2   2\n",
            "   5   6   9   1   9  10  11   2   1   1   5  11  12  13  14   5   1  15\n",
            "   5  16  11   9  17  11  18   9  19  20  21  22   9   1   9  23  24  11\n",
            "  25  26  27  28   1  29  30  31  32   9   1  11  33  34  35  36  11  10\n",
            "   5   5  37   9   5   5   1  38  39   5   1  40  41   5  42   9  11  43\n",
            "  44  45  46  47  48  49  50  51  52  53  54  55  56  57  56  44  45  58\n",
            "  59  60  61  62  63  64  65  66  67  68  69  52  58  70  71  61  72  73\n",
            "  74  75  76  77  64  77  78  74  63  79  65  80  49  64  81  82  83  58\n",
            "  82  84  85  86  87  68  52  88  89  57  76  76  46  90  48  82  58  79\n",
            "  91  45  57  67  92  92  58  55  53  93  94  67  59  92  45  95  92  45\n",
            "  89  96  51  82  71  97  55  98  72  99  89  88  54 100  84 101  94  54\n",
            "  91 102  43 103  43  98  56 104  68  65  95  45  77  76  98 105  99  98\n",
            "  74  79  77  66  98  84  86 104  65  48  75  55  76  84  55  45  65 101\n",
            " 106  66  53  60  95  45  61  87  61 107 108  98  80 109  55  71  93  61\n",
            "  64  92  68  58  92 110  57  84  97  74  89  98 101 111  61  79  48  52\n",
            " 111  97  89  67  55  52 112 113  91  55  67  48  84 101  82  61  71  45\n",
            "  53  46 111  77  84 101  79  46  59  46  69  51  80  55  55  50  79 107\n",
            " 114  99 102 112  50  98  74 115  98  87  74  60 107  51 112  44  66  87\n",
            "  48  60  89 116  45  56 103 107 107  99  96  90 111 115  96  80  45  82\n",
            "  77  81 114 100  89 104 117  83 100  71  58  58  60  80  43  91  54 113\n",
            "  83  86  92 117 115  59  79  68 118  75 117 103 117 108  63 112 117  83\n",
            " 104  88  49  64 113  65 108  71  61  53  46  44  98  82  94  90  80 101\n",
            "  54 119  43  98  93 110  64 117  80 110  68  93  43  77  75  89  92  64\n",
            "  89  55 106  54  98 110  49  69 100 104  83 111 112  50  83 100 103  46\n",
            "  80  99  72 114  89  77  73  83  76  65  55  84  97 103 113  50 112  75\n",
            " 120  77 101 111 101  75  53  46  61  55  73  80  97  55  45  53  52  49\n",
            " 117  91 111  91  80  65  81  96 114 118  81  51  57  43  50  50  53  55\n",
            "  88  57 118  97 121  73 110  51  68 116  82 100 122 123  63  63  94 103\n",
            "  60  86  45  55  52 124  43 125  77  51  77  45  59  86 103 112  88  43\n",
            " 118  44  60  57 104 104 107 101 107  88  84  61  50  98  60 126  62  67\n",
            "  98 112  84  83  50 127 110  60  54  62  78  69  60 128 129 130 129 129\n",
            " 130 130 131 131 131 129 130 131 129 130 131 129 130 131 129 130 131 129\n",
            " 130 131 129 130 131 129 130 131 132 132 133 134 132 132 132 132 133 133\n",
            " 129 130 131 129 130 131 129 130 131 129 130 131 129 130 131 129 130 131\n",
            " 129 135 128 136 129 135 128 136 129 135 128 136 137 129 130 138 129 130\n",
            " 131 129 130 131 129 135 128 136 129 130 131 132 132 132 132 132 129 130\n",
            " 131 129 130 131 129 130 131 129 130 131  78 128 139 130 131 132 129 130\n",
            " 140 132 132 132 134 132 132 132 132 132 132 132 132 132 132 129 130 131\n",
            " 129 130 131 129 130 129 131 130 131 129 130 131 129 130 131 129 130 131\n",
            " 129 130 131 129 130 131 129 130 141 129 130 141 132 134 132 132 142 132\n",
            " 142 142 142 142 142 129 129 130 130 141 141 129 130 141 129 130 141 129\n",
            " 130 141 129 130 141 129 130 141 129 130 131 132 132 134 132 143 132 132\n",
            " 132 129 130 129 130 131 131 129 130 129 130 131 131 129 130 129 130 131\n",
            " 131 129 130 131 129 130 131 129 130 131 129 130 131 132 132 132 132 132\n",
            " 132 132 132 132 132 129 130 129 130 144 144 129 130 144 129 130 144 129\n",
            " 130 144 129 130 144 129 130 144 129 130 144 129 130 144 129 130 145 129\n",
            " 130 131 132 134 132 129 130 144 129 130 144 129 130 144 129 130 144 133\n",
            " 133 133 132 132 132 132 132 132 129 130 144 132 129 130 144 132 129 130\n",
            " 144 129 130 146 129 130 144 132 147 129 130 131 132 132 129 130 131 129\n",
            " 130 131 129 130 131 129 130 131 132 148 130 131 132 129 130 131 129 130\n",
            " 131 129 130 131 134 132 132 133 132 132 132 132 132 129 149 131 129 149\n",
            " 131 150 149 151 149 131 131 129 149 131 129 149 131 129 149 152 153 130\n",
            " 131 154 155 152 156 157 152 139 157 152 156 157 146 151 157 158 156 157\n",
            " 138 132 151 159 146 132 151 160 138 132 139 161 146 132 151 162 140 163\n",
            " 164 165 146 166 167 168 140 169 170 140 171 147 169 172 140 147 173 174\n",
            " 140 175 176 140 169 177 141 171 132 171]\n",
            "4000     nioservercxnfactory000000002181nioservercnxnf...\n",
            "4001     nioservercxnfactory000000002181zookeeperserve...\n",
            "4002     commitprocessor1zookeeperserver595 establish ...\n",
            "4003     nioservercxnfactory000000002181nioservercnxnf...\n",
            "4004     nioservercxnfactory000000002181zookeeperserve...\n",
            "                              ...                        \n",
            "4995     processthreadsid1 cport1preprequestprocessor4...\n",
            "4996     processthreadsid1 cport1preprequestprocessor4...\n",
            "4997     processthreadsid1 cport1preprequestprocessor4...\n",
            "4998     processthreadsid1 cport1preprequestprocessor4...\n",
            "4999     nioservercxnfactory000000002181nioservercnxnf...\n",
            "Name: cleaned_comments, Length: 1000, dtype: object\n",
            "mu = 3.038000957569409, lambda = 123.68855448438408, epsilon = 0.01444340031594038, delta = 0.01444340031594038\n",
            " Iter | Data \t | Smooth \t | Obj \t\n",
            " 1 | 0.0 | 586.5589366572967 | 586.5589366572967\n",
            " 2 | 4.564193573955481 | 0.36255051678202604 | 4.926744090737507\n",
            " 3 | 4.598965284970692 | 0.3158180781487773 | 4.9147833631194695\n",
            " 4 | 4.598968258424609 | 0.31578383632638085 | 4.91475209475099\n",
            " 5 | 4.598899064469519 | 0.3157929264359759 | 4.914691990905495\n",
            " 6 | 4.598760565078732 | 0.31581231352037986 | 4.914572878599111\n",
            " 7 | 4.598483258044651 | 0.31585144192761033 | 4.914334699972262\n",
            " 8 | 4.5979274080069406 | 0.3159289386749046 | 4.913856346681845\n",
            " 9 | 4.596810738836476 | 0.3160797291924756 | 4.912890468028952\n",
            " 10 | 4.594557321468983 | 0.3163633136428946 | 4.910920635111878\n",
            " 11 | 4.589968535578262 | 0.31685294130804875 | 4.906821476886311\n",
            "[  0   1   2   3   4   2   5   6   7   8   9  10  11  12   2  13  14   2\n",
            "  15  16  17  18  19  20  21  14  22   8  23  24   2  13  25  22  26  27\n",
            "  28  29   2  30  13  31   2  32  33   2  34  30  32  25   2  35   6   2\n",
            "  34  30  36  31  37  38  39  10  40  34   8  34  38  18  18  34  41  38\n",
            "  34  35  29  37  42  29  37  21  29  22  42  25  43  44  45   2  10  46\n",
            "  13  29   2  13  33  47  40  20  20  40  10  48  31   5  25  49  17  44\n",
            "  50  37  42  29   2  35  14  51   8  52  53  54  53  55  33  56  57  35\n",
            "  14  35  14  58  59  37  51  60  61  62  63  42  31  63  48  64  22  65\n",
            "  66  22  67  68  69   5  33  51  70  33  69  71  72  37  73  74  17  75\n",
            "  76  60  42  77  69  67  78  17  67  25  37  40  79  31   2  80  68  37\n",
            "  81  53   5  78   2  21  82   2  83  78  47   8  38  41  10  20  53  41\n",
            "  84  40  39  41  38  38  53  41  85  86  41  87  88  89  90  51  47  91\n",
            "  31  51  48  78  47  44  92  51  21  25  37  93  94  63  95  96  37  32\n",
            "  78  69  44  97  69  83  25  63  67  98  17  99  14  47 100  68   7  44\n",
            "  68   2 101 102   2 103  26 104 105   2  41  20  39 106   8 107 108  20\n",
            " 109 110  18  18  30  39  39 111 112 113  31  49  17   5  67  68 114  37\n",
            "  47 115 116 117  48 118  63 119  25  17  42 120  37  42  31  47 121 122\n",
            " 123 124 125 126  83  31  51  83 127  51 128 129 130 131  31  37  28  31\n",
            "  51  21 132  56 133 134   2 135 136   7 137 138 139 139 139 139 139 140\n",
            " 141 142  41 143  10  18  38 144 145 146 147  36 148  51 149  25 117 150\n",
            " 151 152  78 153 154 155  56  37 156 157  56  36 157  37 158  39 159  26\n",
            " 160  38 161 162 157 163 157  32 157  47   7  51 164 165   5  47 166  37\n",
            "  32 167   2 168 169 169 170 169 171   5 172  83 116  37 173 174 175 176\n",
            " 177 178  32 179 180 173 181 182   2 169 183 184 185 186 187 188 189  37\n",
            " 190 191  22 192 193 194 195 196   7 197 198  51  21 199  51 200 201 202\n",
            " 169 203 204 205 206  37 207 208 209 210  51   7 211 212 213 214 215 216\n",
            " 217 218 218 219 220 221 222 223 224 225 226 227 228 218 218 229 230 218\n",
            " 231 232 233  36 234   2 235 236  31   2 237 238  37 239 240 241 242 243\n",
            " 244 245 246 247 248  51 249 250 251 252 253 254 255 256 257 258 259 260\n",
            "   2 261 262 263   2 264 265   2 266 267 268 269   2 270 271   2 272 273\n",
            " 274 275 276 277 278 279 280 279 281 279 281 282 281 283 283 284 279 285\n",
            " 285 282 286 284 284 287 284 286 286 286 286 286 282 286 286 286 282 279\n",
            " 279 279 282 288 283 289 287 279 282 290 290 290 291 290 292 290 293 291\n",
            " 291 294 295 296 297 298 299 300 301 302 303 304 305 306 307 308 309 291\n",
            " 291 292 290 290 290 290 290 292 292 291 292 290 286 286 286 290 291 290\n",
            " 310 292 282 287 282 281 281 282 279 282 279 284 287 287 280 282 286 279\n",
            " 311 279 287 286 285 286 311 286 286 280 286 285 286 283 279 287 287 287\n",
            " 283 280 279 282 287 286 286 286 283 286 286 312 284 288 279 313 314 315\n",
            " 316 317 318 319 320 321 322 323 324 325 326 327  36 328 329 330 331   2\n",
            " 332 333 334 335 335 336 337 338 339   2 340 341 342 335 342 335 343 344\n",
            " 345   2 346 347 336 335 348 335 336 349 350 336 351 352 353 354 355 356\n",
            " 357 358 359 360 361 362 363 364 365 366 367 333 368 333 341 369 336 336\n",
            " 342 342 337 370 371 372 369 341 373 341 347 350 373 374 334 375 336 348\n",
            " 348 334 376 377 372 378 379 380 381 382 383 384 385 386 387 388 389 390\n",
            " 391 392 393 394 372 395 396 397 398 399 400 401 402 403 404 405 406 407\n",
            " 368 333 350 347 343 336 408 337 336 409 410 411 412 413 414 369 373 333\n",
            " 341 341 341 369 369 407 369 350 373 373 333 407 347 415 347 347 333 368\n",
            " 407 373 407 343 348 334 336 375 334 336 336 343 334 374 348 343 334 334\n",
            " 342 408 408 374 336 334 336 336 337 333 350 341 407 416 368 350 347 369\n",
            " 373 368 341 369 368 348 336 342 336 337 336 342 337 374 348 348 334 348\n",
            " 408 417 418 419 347 342 335 335 343 337 420 421   2 422 373 374 335 348\n",
            " 335 334 423 407 336 424 425 426 427 428 429 430 372 347 373 369 347 373\n",
            " 373 373 373 373 431 432 350 336 348 348 337 374 348 334 336 348 342 348\n",
            " 348 333 336 335 374 335 348 373 348 374 433 434 435 436 437 438 439 440\n",
            " 441 442 443 350 350 333 347 341 347 347 350 333 373 347 341 336 342 348\n",
            " 374 444 445 337 334 444 444 444 408  42]\n",
            "5000     nioservercxnfactory000000002181zookeeperserve...\n",
            "5001     commitprocessor1zookeeperserver595 establish ...\n",
            "5002     nioservercxnfactory000000002181nioservercnxnf...\n",
            "5003     nioservercxnfactory000000002181zookeeperserve...\n",
            "5004     commitprocessor1zookeeperserver595 establish ...\n",
            "                              ...                        \n",
            "5995     nioservercxnfactory000000002181nioservercnxn1...\n",
            "5996     nioservercxnfactory000000002181nioservercnxn1...\n",
            "5997     nioservercxnfactory000000002181nioservercnxn1...\n",
            "5998     nioservercxnfactory000000002181nioservercnxn1...\n",
            "5999     nioservercxnfactory000000002181nioservercnxn1...\n",
            "Name: cleaned_comments, Length: 1000, dtype: object\n",
            "mu = 4.158661488075268, lambda = 109.68480638053664, epsilon = 0.017561420798301697, delta = 0.017561420798301697\n",
            " Iter | Data \t | Smooth \t | Obj \t\n",
            " 1 | 0.0 | 504.1292328580598 | 504.1292328580598\n",
            " 2 | 11.418991925130864 | 2.2903006117592692 | 13.709292536890134\n",
            " 3 | 11.995800923831588 | 1.5613921447906722 | 13.55719306862226\n",
            " 4 | 11.998235258215246 | 1.5589538058876478 | 13.557189064102893\n",
            " 5 | 11.998246123912605 | 1.5574754281665824 | 13.555721552079188\n",
            " 6 | 11.993505002766177 | 1.5592647745267085 | 13.552769777292886\n",
            " 7 | 11.983940343819558 | 1.562859433016799 | 13.546799776836357\n",
            " 8 | 11.964557855658818 | 1.570024441769544 | 13.534582297428361\n",
            " 9 | 11.924753273614195 | 1.5842274594807195 | 13.508980733094916\n",
            " 10 | 11.840754069278338 | 1.6118953316707436 | 13.452649400949081\n",
            " 11 | 11.653170131357273 | 1.6621799782334168 | 13.315350109590689\n",
            " 12 | 11.180564867597148 | 2.0431893730113826 | 13.223754240608532\n",
            " 13 | 10.78819815263672 | 1.8863434349739583 | 12.67454158761068\n",
            " 14 | 8.85338925417869 | 2.371782111029826 | 11.225171365208517\n",
            " 15 | 6.609940648322767 | 2.1830955080976073 | 8.793036156420374\n",
            " 16 | 6.162586395914001 | 1.7084837135938233 | 7.871070109507825\n",
            " 17 | 6.2100131428111895 | 1.0189759657300044 | 7.228989108541194\n",
            " 18 | 6.179998592758833 | 1.0466155873266725 | 7.226614180085505\n",
            "[  0   1   2   3   4   5   6   7   8   9   8  10  11  12  13  11  14  15\n",
            "  16  17  18  15  19  20   6   6  21  14   6  17  17  17  17  15  15  20\n",
            "  20  22  23  22  24  23  25  26  27  28   2  29  30  31  32  33   3  33\n",
            "  34  27  35  36  37  38  33   0  38  39  39  40  22   8   8  41  41  14\n",
            "  22  42  43  43  13  39   6  14   6  44  45  46  47  48  49  15  24  50\n",
            "  22  50  50  50  41  23  51  52  15  41  53  15  25  30   4  54   0  35\n",
            "  28  26  55  56   3  57  58  58  11  42  59  41  55   3  35   2   3  27\n",
            "  25  34  25  34  35  60  61  23  62  63  64  14  14  14   6   6  14  14\n",
            "   6   6  41  41  50  41  24  41  50  41  41  15  41  65   8  15   8  66\n",
            "  36  67  38  11  68  15   8  69   8  66  70  15  71  11  39  43  72  26\n",
            "  27  28  73  74  75  76  77  78  41  22  41  15  79  80   6   6   6   6\n",
            "   6   6  41  66  15  15  15  41  41  20   6  15   8  81   8  41  28   3\n",
            "  38  58   6  66   8  15  42  58   8  22  14  82  83  83  83  83  83  84\n",
            "  85  86  87  88  89  90  91  24  23  41  15  92  41  41  93  23  66  15\n",
            "  25  94  35  25  67  36  95  27  27  25  37  96  25   3  38  43  97  98\n",
            "  24  20   8  41   8  20  39  43  43  43  99 100 101 102 103 104 105   6\n",
            "   6  14  14   6  15 106 107 108 109 109 109 109 109 110 111 112  36   3\n",
            "  96  28  67  56  72  26  96  72  34  35  72   3  96  28   0 113  14 114\n",
            "  13  71 115  13  39  43 116 117 118 119 120 121 122 123 124 125 126 127\n",
            " 128 129 130 131 132 133 134 135 136 137 138 139 140 141 142 143 144 145\n",
            " 146 147 148  41 149 150 151 152 153 154   2  67  28  34  25 113  30 113\n",
            "  96  55  26   2   0 155  56 156 157  58 158 159  55  26 160 161 162 163\n",
            " 164 165 166 167 168 169 170 171 172 173 174 175 176   2  73  38  28  67\n",
            "  96  42 177   6 178   6 179   8   8 180 181  13   2  73  54 182  37 113\n",
            " 183   3  25  25  37 184  37  56  56   6  14   6   6  14  14  14   6  14\n",
            "   6  14   6 185 186 187 188 189 190 191 192 193 194 195 196  14 197   6\n",
            " 198 199  42  42  13  13   8 200   8 201   2  25  73 202 203  60 183 183\n",
            "  67   0 204 113  54  26 205  18  18  18  18  18  18  18  18  18 206 207\n",
            " 208 209 210 211 212 213 214 215 216 217 218 219 220  28  67 221  54  67\n",
            " 222   2  73 223  28 224 225  54   3   1  33   3 226   2   0 227  55  67\n",
            " 228  55   3  27  72   0 229  28  26 230  25   3 231 232 233   8   8 234\n",
            " 235  71  13 236 237  58  71  43  13  39  43 238 239  71  71 240  58 241\n",
            " 242 243 244 245 246 247 248 249 250 251 252 253 254 255 256 257 258 259\n",
            " 260 261 262 263 264 265   6   6   6   6  14   6   6  14   6  14   6   6\n",
            "   6  14 266   6   6   6 266   6   6  14   6   6   6 267   6  14   6  14\n",
            " 268 269 270 271 272 273 274 275 276 277 278 279 280 281 282 283 284 285\n",
            " 286 287 288 289 290 291 292 293 294 295 296 297   6 298 299 299 299 299\n",
            " 299 299 299 299 299 299 299 299 299 299 299 299 299 300 299 299 299 299\n",
            " 299 300 299 300 299 300 300 299 299 299 299 300 300 300 300 300 299 299\n",
            " 300 299 300 300 300 299 299 299 299 299 299 299 299 299 299 299 299 299\n",
            " 299 299 299 299 299 300 299 299 299 299 299 299 299 299 299 299 300 300\n",
            " 300 299 299 299 299 299 299 300 300 300 299 300 300  28  34  54 183  73\n",
            "  37 301 302 303  36  30  35  28   3 304 305  54   0 306  25  37  35 183\n",
            "  67 306  55  26 307  25   3 308 183  73 306   2  73 307 309 309 309 309\n",
            " 309 309 310 309 309 311 312   2   0 313  55  67 314  36 202 315  28   3\n",
            " 306  72   3 316  33  26 317   2  37 113  28   3 113 183  73 318  28  30\n",
            " 319  54   0 306 183  34 320   2  30 307  25  34 317  28  26 317 321 322\n",
            " 323 324 325 326 309 305 309 327  43  43  58 328 328  28   3 329 330 331\n",
            " 331 317 332 307 333 307 334 335 333 336  72 333 331 333 337 338 331 333\n",
            " 339 331 340 113 341 342 343 344 345 346 347 348 349 350 351 352 353 354\n",
            " 355 356 357 358 359 360 361 362 363 364 317 365 366 367  28 368 369 370\n",
            " 371 372 365 373 374 375 376  38 377 328 378 379 380 381 382 382 379 379\n",
            " 328  58 379 261 382 380 379 328 383 382 382 384 385 386 387  73 374 183\n",
            " 388 374 389 390 374 391 392 374 365 393 394 377 395 396 397 365 398 399\n",
            " 400 401 402 403 404 405 406 407 408 409 410 411 412 413  38 365 414 415\n",
            " 377 359 377 416 377 377 416 416  71 417]\n",
            "6000     nioservercxnfactory000000002181nioservercnxn1...\n",
            "6001     nioservercxnfactory000000002181nioservercnxn1...\n",
            "6002     nioservercxnfactory000000002181nioservercnxn1...\n",
            "6003     nioservercxnfactory000000002181nioservercnxnf...\n",
            "6004     nioservercxnfactory000000002181zookeeperserve...\n",
            "                              ...                        \n",
            "6995     workerreceivermyid1fastleaderelection542 noti...\n",
            "6996     quorumpeermyid1000000002181fastleaderelection...\n",
            "6997     101034113888quorumcnxmanagerlistener493 recei...\n",
            "6998     workerreceivermyid1fastleaderelection542 noti...\n",
            "6999     quorumpeermyid1000000002181fastleaderelection...\n",
            "Name: cleaned_comments, Length: 1000, dtype: object\n",
            "mu = 8.346479748810609, lambda = 116.25219309670608, epsilon = 0.01946094259619713, delta = 0.01946094259619713\n",
            " Iter | Data \t | Smooth \t | Obj \t\n",
            " 1 | 0.0 | 788.8006534561919 | 788.8006534561919\n",
            " 2 | 16.42783863883256 | 1.7171922587051416 | 18.1450308975377\n",
            " 3 | 16.729401409421413 | 1.3652966544406073 | 18.09469806386202\n",
            " 4 | 16.729646147985687 | 1.3647902361073294 | 18.094436384093015\n",
            " 5 | 16.7287722740405 | 1.3651450986939884 | 18.09391737273449\n",
            " 6 | 16.727014226907578 | 1.3658655953179282 | 18.092879822225505\n",
            " 7 | 16.723483746257507 | 1.3673081261499165 | 18.090791872407422\n",
            " 8 | 16.716364777701145 | 1.3701915382625183 | 18.086556315963662\n",
            " 9 | 16.701890698491127 | 1.3759444953833682 | 18.077835193874495\n",
            " 10 | 16.67196410712666 | 1.3873624663857231 | 18.059326573512383\n",
            " 11 | 16.607910512270024 | 1.4095729101685106 | 18.017483422438534\n",
            " 12 | 16.46044717091725 | 1.4489316005300457 | 17.909378771447294\n",
            " 13 | 16.063814463562245 | 1.733756637393411 | 17.797571100955658\n",
            " 14 | 15.621788958989027 | 1.9623000567878084 | 17.584089015776836\n",
            " 15 | 14.915818451228361 | 2.0474749733200577 | 16.963293424548418\n",
            " 16 | 14.408984917603252 | 1.5594021054774143 | 15.968387023080666\n",
            " 17 | 13.299039813589442 | 1.6341145582535752 | 14.933154371843017\n",
            " 18 | 12.799533599304123 | 1.65394679544606 | 14.453480394750184\n",
            " 19 | 12.77673508205179 | 1.6753808402273218 | 14.452115922279111\n",
            " 20 | 12.751797649498034 | 1.6991849495585392 | 14.450982599056573\n",
            "[  0   1   2   3   4   5   6   7   8   5   9  10  11  12  13   5  10  14\n",
            "  15  10   6   7   7  16  17  11  18  19   5  20  16   5   9  21  10  22\n",
            "  23  24  25  18  17   9  26   5  25  27  19  28   0  19  28  29  28  28\n",
            "   0   1  30  30  28  31  32  33  33  31  32  32  34  31  34  33  32  32\n",
            "  32  32  35  33  32  33  32  36  36  37  38  38  38  38  32  31  39  40\n",
            "  40  41  42  42  42  42  42  43  44  45  46  47  48  32  32  32  32  32\n",
            "  34  34  32  32  33  32  31  32  33  31  34  33  32  33  35  33  32  35\n",
            "  33  33  35  35  35  34  32  49  40  50  49  51  51  50  40  49  40  40\n",
            "  39  40  40  40  33  31  33  32  34  33  35  32  32  32  34  31  33  31\n",
            "  31  33  33  33  32  33  37  32  32  32  33  32  33  34  31  32  33  35\n",
            "  37  37  52  52  52  52  52  34  52  35  37  52  52  52  52  52  52  52\n",
            "  52  53  54  54  54  54  54  55  35  56  57  58  59  37  37  60  60  37\n",
            "  60  61  62  40  40  50  63  40  49  51  49  51  39  40  40  51  50  40\n",
            "  64  65  66  67  68  69  69  69  69  69  70  71  72  73  74  74  74  74\n",
            "  74  75  76  77  78  78  60  60  60  60  78  78  50  39  40  63  49  49\n",
            "  79  51  63  50  50  40  63  40  50  78  80  81  82  83  84  85  86  52\n",
            "  87  65  66  88  88  88  66  89  89  89  75  90  54  54  88  60  60  60\n",
            "  60  66  89  51  51  63  79  79  40  39  51  51  79  40  91  92  93  94\n",
            "  95  95  95  95  10  22   5  11  95  18   7  24  15  26   3  96   7  10\n",
            "   9  26  24  25   8  10  25   8   3  97  18   5  98   7   5  11  26  24\n",
            "   6  26   5  14  16   5  98   7   5  25  99   5  97 100   5  25  21 101\n",
            " 102 102  28  28  28   0   0 103   0   1  30 102 102  19  29  10  22  24\n",
            "  25   7  18  10  97  21  24  97  21   5  25 100   5  25   8  10   6   8\n",
            "   5  11  16  17  25  16  10  98   7  17  98  21   5  25  18   5  98  26\n",
            "  17  14   7   5  98   7  17  98  16   5   6  26  10   6   7   5  14   8\n",
            "  10  98 100   5   9 104  17  22  27 105  28 106  19  19  28  28 107 102\n",
            "  28  19   0   0 107 107   0  19 108  30  19 107 106   5 109  18  10   9\n",
            "   5  11  26  16  17  11   7   3  98   7  17   6  16   3  98 110  10  97\n",
            " 111   5  15   8   5  97  21   5   6   8  10   9  27 106   2   0 108 108\n",
            "  28  28  19  28 112   1 113 114 115 115 115 115 115 116 117 118 119 120\n",
            " 121 122 123 124  75 125 126 127 128  75  75  36  75  36  36  36 129 130\n",
            " 131 132 133 134 135 136 137 138 139 140  50  79  50  39  39 141 142 143\n",
            " 144 145   5  10  14   6 146 147  17   6   5  11   8  21   5   6  99  10\n",
            "  11   8  10  22  21   5  97 100 108 106   0  19 148 107  28  30   5  98\n",
            "  99   5  97   8  10  14  99   5  97 100  10 149  21  17 150 100  17 151\n",
            "   8  17   6 100  10   6  99  10   9  21 152   5  11  27   1   1 107 107\n",
            "  28  30 153   1   1   2   3  22   8   5  97   5 154 100   8  10   6  99\n",
            "  17  11   8   5  14  99   5  22 100   5  22  21 155 156  21 157 158  99\n",
            " 157 159   8 157 160  99 157 159  27 157 159   8 161 162 163 163 163 163\n",
            " 163 164 165 166 167 168 169 170 171  75 172  75  75 173  75  75 174 175\n",
            "  40  51  39  39  50  79  50  40  51  51 176 177  40  49 178 179 180 181\n",
            " 182 183 184 185 186 187 188 186 189 190 186 191 192 186 193 194 186 195\n",
            " 196 186 197 198 199 197 186 200 197 197 186 201 202 197 203 197 186 204\n",
            " 205 197 186 206 197 186 207 208 197 186 209 197 197 197 210 211 159  27\n",
            " 212 159  27 112   0 213 214 215 216 217 218 219 220 221 222 223 224 225\n",
            " 226 227  75 228 229 230 231  75  75  75 232 233  49  63 234  49  50  51\n",
            "  39  39  39 177  50  50  49  50  51 235 236 237 238 239 240 241 186 242\n",
            " 243 186 244 245 186 246 247 186 248 249 186 250 186 251 197 252 197 186\n",
            " 253 197 197  10 197 186 254 197 255 197 186 256 197 257 258 197 186 259\n",
            " 186 260 197 261 197 186 262 197 263 112 108  19  28  28 264 265 265 266\n",
            "  28 267 265 268 269 270 271 272 273 274 275 275 276 273 277 278 275 275\n",
            " 279 280 281 282 283 275 284 285 286 287 288  27 265 267 289 267 290 265\n",
            " 291 292 293 294 273 295 296 297 298 299 300 301 302 297 303 304 305 297\n",
            " 306 273 307 308 300 297 309 273 310 311 312 297 313 300 314 315 300 316\n",
            " 317 318  27 319 320  27 321 322 323 324 325 326 327 328 329 330 331 332\n",
            " 333 334 335 336 337  75 338 339  75  32]\n",
            "7000     workerreceivermyid1fastleaderelection542 noti...\n",
            "7001      quorumpeermyid1000000002181quorumpeer738 follow\n",
            "7002     quorumpeermyid1000000002181learner85 tcp node...\n",
            "7003     quorumpeermyid1000000002181environment100 ser...\n",
            "7004     quorumpeermyid1000000002181environment100 ser...\n",
            "                              ...                        \n",
            "7995     quorumpeermyid1000000002181fastleaderelection...\n",
            "7996     quorumpeermyid1000000002181fastleaderelection...\n",
            "7997     quorumpeermyid1000000002181fastleaderelection...\n",
            "7998     quorumpeermyid1000000002181fastleaderelection...\n",
            "7999     quorumpeermyid1000000002181fastleaderelection...\n",
            "Name: cleaned_comments, Length: 1000, dtype: object\n",
            "mu = 9.000760352586823, lambda = 72.89291544269012, epsilon = 0.015155171044170856, delta = 0.015155171044170856\n",
            " Iter | Data \t | Smooth \t | Obj \t\n",
            " 1 | 0.0 | 3832.307314319623 | 3832.307314319623\n",
            " 2 | 478.7086367774804 | 358.9224139549849 | 837.6310507324654\n",
            " 3 | 493.5606803341797 | 343.58600180397457 | 837.1466821381543\n",
            " 4 | 493.6707825907078 | 343.47586524300107 | 837.1466478337088\n",
            " 5 | 493.6719729790918 | 342.1004924634066 | 835.7724654424984\n",
            " 6 | 490.7362571180672 | 345.0159746635346 | 835.7522317816018\n",
            " 7 | 490.6560663252336 | 342.31712401701674 | 832.9731903422503\n",
            " 8 | 484.7681283656912 | 348.11802548782146 | 832.8861538535127\n",
            " 9 | 484.4383951360721 | 342.7511825926129 | 827.189577728685\n",
            " 10 | 472.5763453185012 | 354.2038065706722 | 826.7801518891733\n",
            " 11 | 471.1681896137613 | 355.57267750378514 | 826.7408671175465\n",
            " 12 | 470.82338710683734 | 343.71424679636 | 814.5376339031973\n",
            " 13 | 446.60832385158966 | 365.5164988365097 | 812.1248226880994\n",
            " 14 | 439.89326128827446 | 370.69560909239675 | 810.5888703806712\n",
            " 15 | 435.2493929076079 | 373.3034899792525 | 808.5528828868604\n",
            " 16 | 430.08968484015315 | 341.38661008113377 | 771.4762949212869\n",
            " 17 | 378.2960500175949 | 371.57637379640585 | 749.8724238140007\n",
            " 18 | 357.97738128799153 | 379.1956661500059 | 737.1730474379974\n",
            " 19 | 344.73046743134717 | 374.79144383779266 | 719.5219112691398\n",
            " 20 | 334.9490944504817 | 293.4272727148196 | 628.3763671653013\n",
            " 21 | 275.5998310941361 | 294.50700797838306 | 570.1068390725192\n",
            " 22 | 254.86724026583133 | 245.81395386735633 | 500.68119413318766\n",
            " 23 | 257.2237227286137 | 226.5886889265288 | 483.8124116551425\n",
            " 24 | 246.32065830538497 | 152.69299754825246 | 399.01365585363743\n",
            " 25 | 201.77605650184032 | 147.2024553556327 | 348.978511857473\n",
            " 26 | 181.74549382718325 | 122.81255135072672 | 304.55804517791\n",
            " 27 | 181.42673708819567 | 111.27332375535984 | 292.7000608435555\n",
            " 28 | 182.57126969695125 | 67.22578897983097 | 249.79705867678223\n",
            " 29 | 176.28404819107647 | 71.85043223983939 | 248.13448043091586\n",
            " 30 | 169.2416617417626 | 75.19490123179591 | 244.43656297355852\n",
            " 31 | 157.66551891704455 | 76.39155381660039 | 234.05707273364493\n",
            " 32 | 149.5287150574576 | 45.92714774003119 | 195.45586279748878\n",
            " 33 | 139.9818492236427 | 48.90073174368357 | 188.88258096732628\n",
            " 34 | 129.72326837918482 | 48.52287004398868 | 178.2461384231735\n",
            " 35 | 120.16669193236267 | 48.472111877425604 | 168.63880380978827\n",
            " 36 | 111.89455594384538 | 28.079349651987847 | 139.97390559583323\n",
            " 37 | 106.64785072989558 | 30.135664959291017 | 136.7835156891866\n",
            " 38 | 97.81517622156808 | 31.21437472152888 | 129.02955094309695\n",
            " 39 | 88.03318244455276 | 31.68677631406801 | 119.71995875862078\n",
            " 40 | 81.25222229207758 | 28.086167391209763 | 109.33838968328735\n",
            " 41 | 76.50842951837414 | 28.194925405827124 | 104.70335492420126\n",
            " 42 | 72.07966588157535 | 27.61398285552332 | 99.69364873709867\n",
            " 43 | 70.9080544740464 | 27.491946652301674 | 98.40000112634807\n",
            " 44 | 69.2091951490285 | 27.250324810282095 | 96.4595199593106\n",
            " 45 | 69.1749438741527 | 27.19296471101141 | 96.36790858516412\n",
            "[  0   1   1   1   1   1   1   1   1   1   1   1   1   1   1   1   1   1\n",
            "   1   1   1   1   1   0   0   0   1   0   1   2   3   4   5   6   7   8\n",
            "   4   9  10   6  11   8  10  12   2   4  13  14   5   7  15  10  16   9\n",
            "  10  17   3   5  11   8   4  11   9   5  13  18  18  18  18  18  18  18\n",
            "  18  18  18  18  18   3   5   3  10   6  11  15   5   9  10  12   6  19\n",
            "   5  20   4  14   5  12  13  11  14   4   6   3  10  13   8  10  13   3\n",
            "  10  11   8   5  11   2   1   1   1  21  21  21  21  21  21  21  21  21\n",
            "  21  21  21  21   1   1   1   1   1   1   1   1   1   1   1   1  22  23\n",
            "  22  23  22  23  22  23  22  24  18  23  22  23  22  23  22  23  22  25\n",
            "  22   3  18   2  18  15  18  15  18  20  18   2  18  22  22  22  22  22\n",
            "  22  22  22  22  22  22  26  26  26  26  26  26  26  26  26  26   1   1\n",
            "   1   1   1   3  10  27  24  10  11   2  10  11  28  28  28  28  28  28\n",
            "  28  28  28  28  28  26   2  10  24  10  11  29  14  10   6   2   5  11\n",
            "  24   5   6   3   5  11  19  10  12  24  10  12  18  18  18  18  18  18\n",
            "  18  18  18  18  18  20   5  11  20  10   3  10  17   6   3  30  14   5\n",
            "  17  31   2  10  32   8  10  11   8   5   6   3  10  31   2   4  33  19\n",
            "   4  31  20   5   6   2   5  31  18  18  18  18  18  18  18  18  18  18\n",
            "  18  18  18  34   2  10  10   9   4   6  11   6   3   5  17   8   5  12\n",
            "  24   5  13  15  10   6  20  10  13   9  10   6  34   4  35  36  10  11\n",
            "   8   5  37   3   4  31   8  10  31  20  10  17   2  10  38  20  10   7\n",
            "  18  18   8  10  38   2   4  38   2  10  12  18  18  18   3   4  38  18\n",
            "  18  18  18  18  18  18  18  18  18  18  21  18  18  18  21   3   4  31\n",
            "  14  10   8  10   6   6  15  10  34   4  12  11   3  10   6   2  10  39\n",
            "  18  19  10  31  19   5  31  34  10  11  19  30  11  20  10   6   3   4\n",
            "  11  15   4  11   2   5   6  40  10  12   2  10  41  42  10  11  42  10\n",
            "   6  21  21  21  21  21  21  21  21  21   1   1   1   1   1   1   1   1\n",
            "   1   1   1   1   1   1   1   0  23  23  23  23  23  23  23  23  43  44\n",
            "  45  46  46  45  46  47  45  46  46  48  49  50  51  45  51  45  52  51\n",
            "  53  54  55  56  57  58  59  59  59  59  59  60  61  62  58  63  64  65\n",
            "  58  66  67  58  68  69  70  59  71  58  72  73  74  75  76  77  78  79\n",
            "  51  80  81  82  82  82  82  82  83  84  85  86  87  88  89  50  51  90\n",
            "  91  92  93  50  94  95  96  97  98  94  99 100 101 102  94 103  94  94\n",
            "  50 104 105 106  50 107 108 109 110 111 112 113 114 115 116 117 118 119\n",
            " 120 121 119 122 123 118 124 125 126 127 128 129 130 131 132 133 117 134\n",
            " 135 136 137 130 138 139 140 139 141 142 142 143 117 144 145 114 146 116\n",
            " 137 147 148 144 149 150 151 152 120 127 137 153 143 154 155 156 157 133\n",
            " 158 134 129 159 123 157 118 121 153 157 132 149 126 149 160 161 162 163\n",
            " 152 155 116 116 164 165 166 167 168 113 135 132 169 168 162 157 156 170\n",
            " 132 149 135 116 171 166 172 116 173 174 154 141 132 137 116 152 175 164\n",
            " 176 126 176 174 154 126 163 144 115 142 140 177 157 160 139 129 117 121\n",
            " 115 160 157 178 179 130 136 180 171 142 181 115 174 148 115 182 155 131\n",
            " 183 184 161 121 131 146 176 172 185 126 186 149 154 118 164 121 187 150\n",
            " 175 181 180 123 171 165 149 139 188 141 129 134 132 133 164 184 141 136\n",
            " 156 130 181 183 168 146 116 135 166 140 153 137 175 150 183 162 170 116\n",
            " 182 147 117 117 117 153 136 155 128 155 181 124 140 116 131 121 139 189\n",
            " 162 138 134 188 151 186 132 170 161 153 160 181 121 171 170 119 190 141\n",
            " 184 168 118 191 161 130 141 114 159 192 154 131 147 141 121 153 181 122\n",
            " 193 147 156 157 116 179 136 123 188 127 136 131 146 116 186 116 123 140\n",
            " 134 147 113 117 120 160 120 115 135 133 194 195 170 119 137 186 181 152\n",
            " 134 183 134 167 149 123 172 135 113 153 152 124 149 123 115 126 148 196\n",
            " 135 165 157 177 142 116 171 135 120 146 171 139 120 155 158 132 171 181\n",
            " 185 115 115 162 126 118 156 165 113 173 131 136 141 124 161 166 165 141\n",
            " 180 174 150 127 163 115 127 179 170 114 165 174 127 149 137 113 170 186\n",
            " 166 162 158 127 181 183 137 186 128 154 121 168 166 174 185 140 117 130\n",
            " 143 181 197 147 188 175 188 137 121 113 149 114 151 114 139 146 114 156\n",
            " 126 179 149 119 168 198 199 174 200 201]\n",
            "8000     quorumpeermyid1000000002181fastleaderelection...\n",
            "8001     quorumpeermyid1000000002181fastleaderelection...\n",
            "8002     quorumpeermyid1000000002181fastleaderelection...\n",
            "8003     quorumpeermyid1000000002181fastleaderelection...\n",
            "8004     quorumpeermyid1000000002181fastleaderelection...\n",
            "                              ...                        \n",
            "8189     quorumpeermyid1000000002181fastleaderelection...\n",
            "8190     quorumpeermyid1000000002181fastleaderelection...\n",
            "8191     quorumpeermyid1000000002181fastleaderelection...\n",
            "8192     quorumpeermyid1000000002181fastleaderelection...\n",
            "8193     quorumpeermyid1000000002181fastleaderelection...\n",
            "Name: cleaned_comments, Length: 194, dtype: object\n",
            "mu = 0.35790552972182965, lambda = 1.365184376756928, epsilon = 0.01629498600959778, delta = 0.01629498600959778\n",
            " Iter | Data \t | Smooth \t | Obj \t\n",
            " 1 | 0.0 | 1.1009945464785889 | 1.1009945464785889\n",
            " 2 | 0.12389978737798184 | 0.5131436864582957 | 0.6370434738362775\n",
            " 3 | 0.14478624702241796 | 0.4877046457653935 | 0.6324908927878115\n",
            " 4 | 0.1464109639528688 | 0.4464377265143891 | 0.5928486904672579\n",
            " 5 | 0.1356590493901776 | 0.387504528625216 | 0.5231635780153936\n",
            " 6 | 0.12215029443450776 | 0.3012460878747696 | 0.42339638230927734\n",
            " 7 | 0.10920314016770082 | 0.21160436096629154 | 0.32080750113399237\n",
            " 8 | 0.08839554041655791 | 0.21816084498267274 | 0.30655638539923064\n",
            " 9 | 0.0772152473628387 | 0.14266590502725437 | 0.2198811523900931\n",
            "[ 0  0  1  0  0  2  2  0  0  2  1  1  0  0  0  2  1  0  0  0  0  0  0  0\n",
            "  1  1  0  0  0  1  0  0  0  0  0  0  1  0  0  0  0  0  0  0  1  2  0  3\n",
            "  0  0  1  0  2  0  1  1  2  1  2  1  0  1  0  1  0  0  0  2  0  1  0  1\n",
            "  0  0  1  0  0  0  0  0  0  2  0  0  0  0  0  1  1  0  0  4  5  6  7  0\n",
            "  8  9 10 11 12 13 13 14 15 13 16 17  7 11 18 16  4 15 19 12 10 11 20  3\n",
            " 15 11  7  5  8  5  8  9 21 13  3 12 15 22 21 23 24 25  4 14  7 11  4 15\n",
            "  9 26 24 24  5  5 27 19 14 13 17 23 26  5 26 21 28 12 19 18 12 15 11 24\n",
            " 14  5  9 14  4 19  8 16  6 29 21 17  8 26 30  6 12 12  7 24 10 31 26  8\n",
            " 10  2]\n"
          ]
        }
      ]
    }
  ]
}